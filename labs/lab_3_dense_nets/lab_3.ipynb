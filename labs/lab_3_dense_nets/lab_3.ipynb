{
  "nbformat": 4,
  "nbformat_minor": 0,
  "metadata": {
    "kernelspec": {
      "display_name": "Python 3",
      "language": "python",
      "name": "python3"
    },
    "language_info": {
      "codemirror_mode": {
        "name": "ipython",
        "version": 3
      },
      "file_extension": ".py",
      "mimetype": "text/x-python",
      "name": "python",
      "nbconvert_exporter": "python",
      "pygments_lexer": "ipython3",
      "version": "3.6.9"
    },
    "colab": {
      "name": "lab_3.ipynb",
      "provenance": [],
      "collapsed_sections": []
    }
  },
  "cells": [
    {
      "cell_type": "markdown",
      "metadata": {
        "id": "DfKKCHBMs_GE"
      },
      "source": [
        "## Link : https://colab.research.google.com/drive/18k86yDBhYxV_JnoBp1_CkkW8eDVNK83k#scrollTo=DfKKCHBMs_GE"
      ]
    },
    {
      "cell_type": "markdown",
      "metadata": {
        "id": "7Et8M8nGlckk"
      },
      "source": [
        "# Lab 3: Mapping with Fully-Connected Networks\n",
        "Blocks of dense layers are really good at memorizing patterns.\n",
        "This week we'll step outside the traditional \"prediction\" regime of machine learning and use a fully-connected network (FCN) to represent a 2-D scene in its weight by interpolating between known points.\n",
        "\n",
        "Throughout, you should be impressed by two (related) properties of dense neural nets:\n",
        " - They have high enough capacity to entirely memorize complex patterns\n",
        " - They are sufficiently nonlinear to build these patterns up from simple inputs (like (x, y) coordinates in this case)"
      ]
    },
    {
      "cell_type": "code",
      "metadata": {
        "colab": {
          "resources": {
            "http://localhost:8080/nbextensions/google.colab/files.js": {
              "data": "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",
              "ok": true,
              "headers": [
                [
                  "content-type",
                  "application/javascript"
                ]
              ],
              "status": 200,
              "status_text": ""
            }
          },
          "base_uri": "https://localhost:8080/",
          "height": 38
        },
        "id": "DtrF2R2iZ0NW",
        "outputId": "6764a366-1176-4580-a747-223224199a27"
      },
      "source": [
        "# I used this to upload make_data.py onto the google colab platform\n",
        "\n",
        "from google.colab import files\n",
        "def getLocalFiles():\n",
        "    _files = files.upload()\n",
        "    if len(_files) >0:\n",
        "       for k,v in _files.items():\n",
        "         open(k,'wb').write(v)\n",
        "getLocalFiles()"
      ],
      "execution_count": 162,
      "outputs": [
        {
          "output_type": "display_data",
          "data": {
            "text/html": [
              "\n",
              "     <input type=\"file\" id=\"files-313c1cf1-5a25-471c-8c3a-39dd00df5ba5\" name=\"files[]\" multiple disabled\n",
              "        style=\"border:none\" />\n",
              "     <output id=\"result-313c1cf1-5a25-471c-8c3a-39dd00df5ba5\">\n",
              "      Upload widget is only available when the cell has been executed in the\n",
              "      current browser session. Please rerun this cell to enable.\n",
              "      </output>\n",
              "      <script src=\"/nbextensions/google.colab/files.js\"></script> "
            ],
            "text/plain": [
              "<IPython.core.display.HTML object>"
            ]
          },
          "metadata": {}
        }
      ]
    },
    {
      "cell_type": "code",
      "metadata": {
        "id": "1LDwZZcllcku"
      },
      "source": [
        "%matplotlib inline\n",
        "\n",
        "import numpy as np\n",
        "import tensorflow as tf\n",
        "import matplotlib.pyplot as plt"
      ],
      "execution_count": 163,
      "outputs": []
    },
    {
      "cell_type": "markdown",
      "metadata": {
        "id": "nKBGTgcBlckw"
      },
      "source": [
        "# Pointcloud mapping\n",
        "\n",
        "![full scene](./images/full_scene.png)\n",
        "\n",
        "### The problem\n",
        "Imagine there is a square (2-D) room with four walls and several square and circular objects in it.\n",
        "We put laser distance sensors around the room, which shoot rays that continue until they hit an object or a wall and report the distance, with limited angular and radial resolution.\n",
        "We want to use this limited data to produce a full 2-D reconstruction of the scene, filling in points the sensors haven't observed with likely values (in essence, interpolating).\n",
        "\n",
        "### The data\n",
        "We know that every ray that there's an object at the point each ray hit, and we also know that there's no object between the camera and the contact point.\n",
        "The data is provided as (x, y) pairs, where some points correspond to places we know are on object boundaries (shown in green above) and points we know are not inside objects (shown in red above).\n",
        "\n",
        "These points come in two data files: `data/positives.txt` for points on the edge of objects, and `data/negatives.txt` for points outside of objects.\n",
        "To generate these files, run `make_data.py`.\n",
        "\n",
        "(Check out the code if you want to see how the points are generated, but don't change anything!)\n",
        "\n",
        "### The model\n",
        "We want to store a full description of the scene in the weights of a neural network.\n",
        "To do this, we'll train a FCN to classify (x, y) points by whether or not they are the edge of a wall or object.\n",
        "Then, we can draw the scene by sampling (x, y) pairs and drawing the model's output.\n",
        "So, the network has \"memorized\" where the objects and walls are, and what their shapes are."
      ]
    },
    {
      "cell_type": "code",
      "metadata": {
        "colab": {
          "base_uri": "https://localhost:8080/",
          "height": 312
        },
        "id": "_VSQ0F5rmr4D",
        "outputId": "732ee6c5-ab7d-4c8c-fbd8-4f1d89b135ec"
      },
      "source": [
        "exec(open(\"make_data (1).py\").read())"
      ],
      "execution_count": 164,
      "outputs": [
        {
          "output_type": "stream",
          "name": "stdout",
          "text": [
            "Raytraced 838 positive points and 27718 negative points\n"
          ]
        },
        {
          "output_type": "display_data",
          "data": {
            "image/png": "[encoded data removed]",
            "text/plain": [
              "<Figure size 432x288 with 1 Axes>"
            ]
          },
          "metadata": {
            "needs_background": "light"
          }
        }
      ]
    },
    {
      "cell_type": "markdown",
      "metadata": {
        "id": "J42Xf8Bylckx"
      },
      "source": [
        "# Section 1: Load the data\n",
        "Load the data using `np.loadtxt()` (default arguments should work), then convert it to a usable format with a feature array and label array, which is 1 if a point is the edge of an object and 0 if it is not.\n",
        "\n",
        "Functions to look at:\n",
        " - `np.loadtxt`\n",
        " - `np.concatenate`"
      ]
    },
    {
      "cell_type": "code",
      "metadata": {
        "colab": {
          "base_uri": "https://localhost:8080/"
        },
        "id": "VKCFWOHMlckx",
        "outputId": "28314dc5-9da8-4993-aa8d-ed846a8a0e7f"
      },
      "source": [
        "positives = np.loadtxt(\"data/positives.txt\")\n",
        "negatives = np.loadtxt(\"data/negatives.txt\")\n",
        "positives.shape\n",
        "\n",
        "pos_labels = np.ones(positives.shape[0])\n",
        "neg_labels = np.zeros(negatives.shape[0])\n",
        "labels = np.concatenate((pos_labels, neg_labels))\n",
        "data = np.concatenate((positives, negatives))\n",
        "\n",
        "data.shape[1]"
      ],
      "execution_count": 165,
      "outputs": [
        {
          "output_type": "execute_result",
          "data": {
            "text/plain": [
              "2"
            ]
          },
          "metadata": {},
          "execution_count": 165
        }
      ]
    },
    {
      "cell_type": "markdown",
      "metadata": {
        "id": "643IaTlolcky"
      },
      "source": [
        "# Section 2: Build a data pipeline\n",
        "Set up a `tf.data.Dataset` and a `tf.summary.SummaryWriter`.\n",
        "This time, there's no test set, just a single dataset. You may want to use the `repeat` method on the dataset for the number of desired epochs. If so, call it after caching so as not to store redundant data."
      ]
    },
    {
      "cell_type": "code",
      "metadata": {
        "colab": {
          "base_uri": "https://localhost:8080/"
        },
        "id": "1hs8hRojlckz",
        "outputId": "aafa41b2-13f8-4e43-a8c8-f7dfecc9ccaf"
      },
      "source": [
        "n_epochs = 10\n",
        "batch_size = 64\n",
        "\n",
        "n_batches_per_epoch = len(labels) // batch_size\n",
        "dataset = tf.data.Dataset.from_tensor_slices((data, labels))\\\n",
        "    .shuffle(data.shape[0]).take(n_batches_per_epoch).cache().repeat(n_epochs)\n",
        "\n",
        "data_writer = tf.summary.create_file_writer('./data')\n",
        "print(dataset)"
      ],
      "execution_count": 166,
      "outputs": [
        {
          "output_type": "stream",
          "name": "stdout",
          "text": [
            "<RepeatDataset shapes: ((2,), ()), types: (tf.float64, tf.float64)>\n"
          ]
        }
      ]
    },
    {
      "cell_type": "markdown",
      "metadata": {
        "id": "OgEMBxQ3lck0"
      },
      "source": [
        "# Section 3: Build a model graph\n",
        "The model is a simple fully-connected neural network with four hidden layers, each with 64 units, and an output layer that performs binary classification with sigmoid activation.\n",
        "Recall that the input is just a pair (x, y).\n",
        "\n",
        "Functions to look at throughout:\n",
        " - `tf.cast`\n",
        " - `tf.expand_dims`\n",
        " - `tf.squeeze`\n",
        " - arithmetic operations"
      ]
    },
    {
      "cell_type": "markdown",
      "metadata": {
        "id": "iTlyHUamlck1"
      },
      "source": [
        "### 3.1: Class to make dense layers\n",
        "It's tedious (and bad design) to explicitly write out every variable, matrix multiplication, etc.\n",
        "Instead, it's common to define classes that create one of a structure you expect to repeat in your model.\n",
        "\n",
        "Write a `tf.Module` class called `Dense`, which has its signature and scopes defined as a stub below.\n",
        "When called, it should add variables and operations to the graph which implement a single dense layer.\n",
        "\n",
        "If `do_activation` is True, it should apply ReLU activation to the computed values.\n",
        "To do this, you can use `tf.nn.relu`."
      ]
    },
    {
      "cell_type": "code",
      "metadata": {
        "id": "lp2VwJK9lck1"
      },
      "source": [
        "class Dense(tf.Module):\n",
        "    '''\n",
        "    Creates a dense layer module.\n",
        "    \n",
        "    Parameters\n",
        "    ----------\n",
        "    dim_input: int\n",
        "        Number of features in the input representation.\n",
        "    dim_output: int\n",
        "        Number of features in the output representation.\n",
        "        Equivalently, number of units in this layer.\n",
        "    do_activation: bool\n",
        "        Whether or not to apply ReLU activation.\n",
        "    postfix: string\n",
        "        Postfix on name scopes in this layer.\n",
        "        Used to simplify visualizations.\n",
        "    name: string\n",
        "        Name of layer.\n",
        "        \n",
        "    Returns\n",
        "    -------\n",
        "    A tensor representing the activations of this layer.\n",
        "    '''\n",
        "    def __init__(self, dim_input, dim_output, do_activation=True, postfix='', name=None):\n",
        "        super().__init__(name=name)\n",
        "        with tf.name_scope('dense' + postfix):\n",
        "            self.do_activation = do_activation\n",
        "            self.weights = tf.Variable(tf.initializers.he_uniform()(shape=(dim_input,dim_output), dtype=tf.float64), \\\n",
        "                                   name='weights' + postfix)\n",
        "            self.bias = tf.Variable(tf.zeros_initializer()(shape=dim_output, dtype=tf.float64), name='bias' + postfix)\n",
        "      \n",
        "        \n",
        "    def __call__(self, x):\n",
        "        if self.do_activation:\n",
        "          act = tf.nn.relu(tf.math.add(tf.matmul(x, self.weights), self.bias))\n"
      ],
      "execution_count": 167,
      "outputs": []
    },
    {
      "cell_type": "markdown",
      "metadata": {
        "id": "tMfSBl7Dlck2"
      },
      "source": [
        "### 3.2: Class to make neural network\n",
        "Use the `Dense` class to make four dense layers contained as fields in a `tf.Module` class called `FeedForward`.\n",
        "Each should have 64 units, the correct input dimensions, and a distinct (and meaningful) postfix."
      ]
    },
    {
      "cell_type": "markdown",
      "metadata": {
        "id": "G4ADaYVslck3"
      },
      "source": [
        "#### 3.2.1: Compute logit\n",
        "Use the `Dense` class to make a final dense layer with `dim_output=1` to compute the final logit. You'll want to put this in a method called `logits` which should take in `self` and an input."
      ]
    },
    {
      "cell_type": "markdown",
      "metadata": {
        "id": "ONa9a0OVlck3"
      },
      "source": [
        "#### 3.2.2: Compute class probability for output\n",
        "Use `tf.sigmoid` to compute the probability that the input coordinate is a boundary point.\n",
        "We will not use this for the loss, just for the output. You'll want to put this in the `__call__` method."
      ]
    },
    {
      "cell_type": "markdown",
      "metadata": {
        "id": "PznoHZqilck3"
      },
      "source": [
        "#### 3.2.3: Trace function\n",
        "Decorate the `__call__` method with `@tf.function` in order to run a model trace for TensorBoard. I have defined this method for you here, but will not in the future."
      ]
    },
    {
      "cell_type": "code",
      "metadata": {
        "id": "sAHbJEYAlck4"
      },
      "source": [
        "class FeedForward(tf.Module):\n",
        "    def __init__(self, name=None):\n",
        "      self.layer1 = Dense(2, 64, True, 'Layer 1')\n",
        "      self.layer2 = Dense(64, 64, True, 'Layer 2')\n",
        "      self.layer3 = Dense(64, 64, True, 'Layer 3')\n",
        "      self.layer4 = Dense(64, 64, True, 'Layer 4')\n",
        "      self.layer5 = Dense(64, 1, False, 'Final Layer')\n",
        "    \n",
        "    def logits(self, x):\n",
        "      logits = self.layer5(self.layer4(self.layer3(self.layer2(self.layer1(x)))))\n",
        "      return logits\n",
        "    \n",
        "    @tf.function\n",
        "    def __call__(self, x):\n",
        "      prob = tf.sigmoid(self.logits(x))\n",
        "      return prob"
      ],
      "execution_count": 168,
      "outputs": []
    },
    {
      "cell_type": "markdown",
      "metadata": {
        "id": "QadTYpzDlck4"
      },
      "source": [
        "### 3.3: Compute weighted cross-entropy loss\n",
        "There are about 33 times as many non-boundary coordinates as there are boundary coordinates.\n",
        "To prevent the network from just learning to predict that every coordinate is not a boundary, we should weight the loss function to consider boundary pixels more heavily.\n",
        "\n",
        "To do this, use `tf.nn.weighted_cross_entropy_with_logits()` on the logits computed before, plus the input label, and a positive weight of 20.\n",
        "Then, produce the mean loss for the batch with `tf.reduce_mean`. Put this in a `_loss` method."
      ]
    },
    {
      "cell_type": "code",
      "metadata": {
        "id": "6Gf3Mvh5lck5"
      },
      "source": [
        "def _loss(target, actual):\n",
        "    tf.nn.weighted_cross_entropy_with_logits(target, actual, 20)\n",
        "    mse_batch = tf.reduce_mean(mse_per_example)  \n",
        "    return mse_batch"
      ],
      "execution_count": 169,
      "outputs": []
    },
    {
      "cell_type": "markdown",
      "metadata": {
        "id": "8FZ5jIf2lck5"
      },
      "source": [
        "### 3.4: Optimizer and gradients\n",
        "Make an optimizer (I used `tf.optimizers.SGD` with `learning_rate=2e-3` and `momentum=0.9`).\n",
        "Then write a train method (taking in a model, input, output, and step), that represents one step of training, where you explicitly compute the gradients in a variable called `gradients` (so we can plot them below) and make an operation that applies those gradients to the graph.\n",
        "\n",
        "Note: don't use `optimizer.minimize`, which will result in computing the gradients twice since we already have them from `GradientTape.gradient`. Add a summary scalar to plot loss in TensorBoard."
      ]
    },
    {
      "cell_type": "markdown",
      "metadata": {
        "id": "_k3yfb_Xlck5"
      },
      "source": [
        "#### 3.4.1: Plot variables and gradients\n",
        "You don't need to do this for every model, but it's illustrative to do at least once. I've written the code for this below, with a pattern borrowed from http://matpalm.com/blog/viz_gradient_norms/. Put this code snippet under the same `with` block where you add your loss summary scalar.\n",
        "\n",
        "```\n",
        "for gradient, variable in zip(gradients, model.trainable_variables):\n",
        "    if variable.name and gradient is not None:\n",
        "        tf.summary.histogram('gradients/' + variable.name, tf.norm(gradient), step=i)\n",
        "        tf.summary.histogram('variables/' + variable.name, tf.norm(variable), step=i)\n",
        "```"
      ]
    },
    {
      "cell_type": "code",
      "metadata": {
        "id": "1gCxxmLNlck6"
      },
      "source": [
        "optimizer = tf.optimizers.SGD(2e-3, momentum=0.9)\n",
        "\n",
        "def train(model, x, y, i):\n",
        "    with tf.GradientTape() as g:\n",
        "        loss = lambda: _loss(y, model(x))\n",
        "    accuracy = accurate(y, model(x))\n",
        "    with train_writer.as_default():\n",
        "        tf.summary.scalar('loss', loss(), step=i)\n",
        "        for gradient, variable in zip(gradients, model.trainable_variables):\n",
        "            if variable.name and gradient is not None:\n",
        "                tf.summary.histogram('gradients/' + variable.name, tf.norm(gradient), step=i)\n",
        "                tf.summary.histogram('variables/' + variable.name, tf.norm(variable), step=i)"
      ],
      "execution_count": 170,
      "outputs": []
    },
    {
      "cell_type": "markdown",
      "metadata": {
        "id": "xl2W3jBilck6"
      },
      "source": [
        "# Section 4: train the model\n",
        "Same as last time, except there's no test set.\n",
        "You don't need to distinguish between epochs and steps here, but do run a full trace on the first batch to get the model graph in TensorBoard.\n",
        "\n",
        "I used 50 epochs, and got a final cross-entropy loss of about 0.4.\n",
        "You might not need to use this many epochs to get reasonable results, but more will get crisper results.\n",
        "\n",
        "This might take a while on CPUs, so if it's taking too long, think about:\n",
        " - Using Google Colaboratory\n",
        " - Increasing your batch size\n",
        " - Reducing the frequency with which you run summary ops\n",
        " \n",
        "Watching plots, histograms, etc in TensorBoard as the model trains can be fun."
      ]
    },
    {
      "cell_type": "code",
      "metadata": {
        "colab": {
          "base_uri": "https://localhost:8080/",
          "height": 834
        },
        "id": "jXTjGRmxlck6",
        "outputId": "bfb332c0-bb5f-4d74-8a18-4f027df5ce93"
      },
      "source": [
        "\n",
        "# I am having errors here regarding the shape of the input that I can not figure out\n",
        "\n",
        "model = FeedForward()\n",
        "train_batch = 0\n",
        "\n",
        "\n",
        "\n",
        "# Training loop\n",
        "for i in range(n_epochs):\n",
        "    # Iterate over dataset once\n",
        "    for x, y in dataset:  \n",
        "        if train_batch == 0:\n",
        "            # On the first batch, run a full trace\n",
        "            tf.summary.trace_on(graph=True, profiler=True)\n",
        "            # We simply run this operation to add our graph to TensorBoard\n",
        "            model(x)\n",
        "            with train_writer.as_default():\n",
        "                tf.summary.trace_export(name='first training batch', step=0, profiler_outdir='./logs')\n",
        "        # Call train iteration\n",
        "        train(model, x, y, train_batch)\n",
        "        train_batch += 1\n",
        "\n",
        "    print('Epoch:\\t', i)\n",
        "    \n",
        "# Save model\n",
        "checkpoint = tf.train.Checkpoint(model=model)\n",
        "checkpoint.write('./checkpoints/model')"
      ],
      "execution_count": 174,
      "outputs": [
        {
          "output_type": "stream",
          "name": "stdout",
          "text": [
            "WARNING:tensorflow:Trace already enabled\n"
          ]
        },
        {
          "output_type": "error",
          "ename": "ValueError",
          "evalue": "ignored",
          "traceback": [
            "\u001b[0;31m---------------------------------------------------------------------------\u001b[0m",
            "\u001b[0;31mValueError\u001b[0m                                Traceback (most recent call last)",
            "\u001b[0;32m<ipython-input-174-347d59e208b2>\u001b[0m in \u001b[0;36m<module>\u001b[0;34m()\u001b[0m\n\u001b[1;32m     12\u001b[0m             \u001b[0mtf\u001b[0m\u001b[0;34m.\u001b[0m\u001b[0msummary\u001b[0m\u001b[0;34m.\u001b[0m\u001b[0mtrace_on\u001b[0m\u001b[0;34m(\u001b[0m\u001b[0mgraph\u001b[0m\u001b[0;34m=\u001b[0m\u001b[0;32mTrue\u001b[0m\u001b[0;34m,\u001b[0m \u001b[0mprofiler\u001b[0m\u001b[0;34m=\u001b[0m\u001b[0;32mTrue\u001b[0m\u001b[0;34m)\u001b[0m\u001b[0;34m\u001b[0m\u001b[0;34m\u001b[0m\u001b[0m\n\u001b[1;32m     13\u001b[0m             \u001b[0;31m# We simply run this operation to add our graph to TensorBoard\u001b[0m\u001b[0;34m\u001b[0m\u001b[0;34m\u001b[0m\u001b[0;34m\u001b[0m\u001b[0m\n\u001b[0;32m---> 14\u001b[0;31m             \u001b[0mmodel\u001b[0m\u001b[0;34m(\u001b[0m\u001b[0mx\u001b[0m\u001b[0;34m)\u001b[0m\u001b[0;34m\u001b[0m\u001b[0;34m\u001b[0m\u001b[0m\n\u001b[0m\u001b[1;32m     15\u001b[0m             \u001b[0;32mwith\u001b[0m \u001b[0mtrain_writer\u001b[0m\u001b[0;34m.\u001b[0m\u001b[0mas_default\u001b[0m\u001b[0;34m(\u001b[0m\u001b[0;34m)\u001b[0m\u001b[0;34m:\u001b[0m\u001b[0;34m\u001b[0m\u001b[0;34m\u001b[0m\u001b[0m\n\u001b[1;32m     16\u001b[0m                 \u001b[0mtf\u001b[0m\u001b[0;34m.\u001b[0m\u001b[0msummary\u001b[0m\u001b[0;34m.\u001b[0m\u001b[0mtrace_export\u001b[0m\u001b[0;34m(\u001b[0m\u001b[0mname\u001b[0m\u001b[0;34m=\u001b[0m\u001b[0;34m'first training batch'\u001b[0m\u001b[0;34m,\u001b[0m \u001b[0mstep\u001b[0m\u001b[0;34m=\u001b[0m\u001b[0;36m0\u001b[0m\u001b[0;34m,\u001b[0m \u001b[0mprofiler_outdir\u001b[0m\u001b[0;34m=\u001b[0m\u001b[0;34m'./logs'\u001b[0m\u001b[0;34m)\u001b[0m\u001b[0;34m\u001b[0m\u001b[0;34m\u001b[0m\u001b[0m\n",
            "\u001b[0;32m/usr/local/lib/python3.7/dist-packages/tensorflow/python/eager/def_function.py\u001b[0m in \u001b[0;36m__call__\u001b[0;34m(self, *args, **kwds)\u001b[0m\n\u001b[1;32m    883\u001b[0m \u001b[0;34m\u001b[0m\u001b[0m\n\u001b[1;32m    884\u001b[0m       \u001b[0;32mwith\u001b[0m \u001b[0mOptionalXlaContext\u001b[0m\u001b[0;34m(\u001b[0m\u001b[0mself\u001b[0m\u001b[0;34m.\u001b[0m\u001b[0m_jit_compile\u001b[0m\u001b[0;34m)\u001b[0m\u001b[0;34m:\u001b[0m\u001b[0;34m\u001b[0m\u001b[0;34m\u001b[0m\u001b[0m\n\u001b[0;32m--> 885\u001b[0;31m         \u001b[0mresult\u001b[0m \u001b[0;34m=\u001b[0m \u001b[0mself\u001b[0m\u001b[0;34m.\u001b[0m\u001b[0m_call\u001b[0m\u001b[0;34m(\u001b[0m\u001b[0;34m*\u001b[0m\u001b[0margs\u001b[0m\u001b[0;34m,\u001b[0m \u001b[0;34m**\u001b[0m\u001b[0mkwds\u001b[0m\u001b[0;34m)\u001b[0m\u001b[0;34m\u001b[0m\u001b[0;34m\u001b[0m\u001b[0m\n\u001b[0m\u001b[1;32m    886\u001b[0m \u001b[0;34m\u001b[0m\u001b[0m\n\u001b[1;32m    887\u001b[0m       \u001b[0mnew_tracing_count\u001b[0m \u001b[0;34m=\u001b[0m \u001b[0mself\u001b[0m\u001b[0;34m.\u001b[0m\u001b[0mexperimental_get_tracing_count\u001b[0m\u001b[0;34m(\u001b[0m\u001b[0;34m)\u001b[0m\u001b[0;34m\u001b[0m\u001b[0;34m\u001b[0m\u001b[0m\n",
            "\u001b[0;32m/usr/local/lib/python3.7/dist-packages/tensorflow/python/eager/def_function.py\u001b[0m in \u001b[0;36m_call\u001b[0;34m(self, *args, **kwds)\u001b[0m\n\u001b[1;32m    931\u001b[0m       \u001b[0;31m# This is the first call of __call__, so we have to initialize.\u001b[0m\u001b[0;34m\u001b[0m\u001b[0;34m\u001b[0m\u001b[0;34m\u001b[0m\u001b[0m\n\u001b[1;32m    932\u001b[0m       \u001b[0minitializers\u001b[0m \u001b[0;34m=\u001b[0m \u001b[0;34m[\u001b[0m\u001b[0;34m]\u001b[0m\u001b[0;34m\u001b[0m\u001b[0;34m\u001b[0m\u001b[0m\n\u001b[0;32m--> 933\u001b[0;31m       \u001b[0mself\u001b[0m\u001b[0;34m.\u001b[0m\u001b[0m_initialize\u001b[0m\u001b[0;34m(\u001b[0m\u001b[0margs\u001b[0m\u001b[0;34m,\u001b[0m \u001b[0mkwds\u001b[0m\u001b[0;34m,\u001b[0m \u001b[0madd_initializers_to\u001b[0m\u001b[0;34m=\u001b[0m\u001b[0minitializers\u001b[0m\u001b[0;34m)\u001b[0m\u001b[0;34m\u001b[0m\u001b[0;34m\u001b[0m\u001b[0m\n\u001b[0m\u001b[1;32m    934\u001b[0m     \u001b[0;32mfinally\u001b[0m\u001b[0;34m:\u001b[0m\u001b[0;34m\u001b[0m\u001b[0;34m\u001b[0m\u001b[0m\n\u001b[1;32m    935\u001b[0m       \u001b[0;31m# At this point we know that the initialization is complete (or less\u001b[0m\u001b[0;34m\u001b[0m\u001b[0;34m\u001b[0m\u001b[0;34m\u001b[0m\u001b[0m\n",
            "\u001b[0;32m/usr/local/lib/python3.7/dist-packages/tensorflow/python/eager/def_function.py\u001b[0m in \u001b[0;36m_initialize\u001b[0;34m(self, args, kwds, add_initializers_to)\u001b[0m\n\u001b[1;32m    758\u001b[0m     self._concrete_stateful_fn = (\n\u001b[1;32m    759\u001b[0m         self._stateful_fn._get_concrete_function_internal_garbage_collected(  # pylint: disable=protected-access\n\u001b[0;32m--> 760\u001b[0;31m             *args, **kwds))\n\u001b[0m\u001b[1;32m    761\u001b[0m \u001b[0;34m\u001b[0m\u001b[0m\n\u001b[1;32m    762\u001b[0m     \u001b[0;32mdef\u001b[0m \u001b[0minvalid_creator_scope\u001b[0m\u001b[0;34m(\u001b[0m\u001b[0;34m*\u001b[0m\u001b[0munused_args\u001b[0m\u001b[0;34m,\u001b[0m \u001b[0;34m**\u001b[0m\u001b[0munused_kwds\u001b[0m\u001b[0;34m)\u001b[0m\u001b[0;34m:\u001b[0m\u001b[0;34m\u001b[0m\u001b[0;34m\u001b[0m\u001b[0m\n",
            "\u001b[0;32m/usr/local/lib/python3.7/dist-packages/tensorflow/python/eager/function.py\u001b[0m in \u001b[0;36m_get_concrete_function_internal_garbage_collected\u001b[0;34m(self, *args, **kwargs)\u001b[0m\n\u001b[1;32m   3064\u001b[0m       \u001b[0margs\u001b[0m\u001b[0;34m,\u001b[0m \u001b[0mkwargs\u001b[0m \u001b[0;34m=\u001b[0m \u001b[0;32mNone\u001b[0m\u001b[0;34m,\u001b[0m \u001b[0;32mNone\u001b[0m\u001b[0;34m\u001b[0m\u001b[0;34m\u001b[0m\u001b[0m\n\u001b[1;32m   3065\u001b[0m     \u001b[0;32mwith\u001b[0m \u001b[0mself\u001b[0m\u001b[0;34m.\u001b[0m\u001b[0m_lock\u001b[0m\u001b[0;34m:\u001b[0m\u001b[0;34m\u001b[0m\u001b[0;34m\u001b[0m\u001b[0m\n\u001b[0;32m-> 3066\u001b[0;31m       \u001b[0mgraph_function\u001b[0m\u001b[0;34m,\u001b[0m \u001b[0m_\u001b[0m \u001b[0;34m=\u001b[0m \u001b[0mself\u001b[0m\u001b[0;34m.\u001b[0m\u001b[0m_maybe_define_function\u001b[0m\u001b[0;34m(\u001b[0m\u001b[0margs\u001b[0m\u001b[0;34m,\u001b[0m \u001b[0mkwargs\u001b[0m\u001b[0;34m)\u001b[0m\u001b[0;34m\u001b[0m\u001b[0;34m\u001b[0m\u001b[0m\n\u001b[0m\u001b[1;32m   3067\u001b[0m     \u001b[0;32mreturn\u001b[0m \u001b[0mgraph_function\u001b[0m\u001b[0;34m\u001b[0m\u001b[0;34m\u001b[0m\u001b[0m\n\u001b[1;32m   3068\u001b[0m \u001b[0;34m\u001b[0m\u001b[0m\n",
            "\u001b[0;32m/usr/local/lib/python3.7/dist-packages/tensorflow/python/eager/function.py\u001b[0m in \u001b[0;36m_maybe_define_function\u001b[0;34m(self, args, kwargs)\u001b[0m\n\u001b[1;32m   3461\u001b[0m \u001b[0;34m\u001b[0m\u001b[0m\n\u001b[1;32m   3462\u001b[0m           \u001b[0mself\u001b[0m\u001b[0;34m.\u001b[0m\u001b[0m_function_cache\u001b[0m\u001b[0;34m.\u001b[0m\u001b[0mmissed\u001b[0m\u001b[0;34m.\u001b[0m\u001b[0madd\u001b[0m\u001b[0;34m(\u001b[0m\u001b[0mcall_context_key\u001b[0m\u001b[0;34m)\u001b[0m\u001b[0;34m\u001b[0m\u001b[0;34m\u001b[0m\u001b[0m\n\u001b[0;32m-> 3463\u001b[0;31m           \u001b[0mgraph_function\u001b[0m \u001b[0;34m=\u001b[0m \u001b[0mself\u001b[0m\u001b[0;34m.\u001b[0m\u001b[0m_create_graph_function\u001b[0m\u001b[0;34m(\u001b[0m\u001b[0margs\u001b[0m\u001b[0;34m,\u001b[0m \u001b[0mkwargs\u001b[0m\u001b[0;34m)\u001b[0m\u001b[0;34m\u001b[0m\u001b[0;34m\u001b[0m\u001b[0m\n\u001b[0m\u001b[1;32m   3464\u001b[0m           \u001b[0mself\u001b[0m\u001b[0;34m.\u001b[0m\u001b[0m_function_cache\u001b[0m\u001b[0;34m.\u001b[0m\u001b[0mprimary\u001b[0m\u001b[0;34m[\u001b[0m\u001b[0mcache_key\u001b[0m\u001b[0;34m]\u001b[0m \u001b[0;34m=\u001b[0m \u001b[0mgraph_function\u001b[0m\u001b[0;34m\u001b[0m\u001b[0;34m\u001b[0m\u001b[0m\n\u001b[1;32m   3465\u001b[0m \u001b[0;34m\u001b[0m\u001b[0m\n",
            "\u001b[0;32m/usr/local/lib/python3.7/dist-packages/tensorflow/python/eager/function.py\u001b[0m in \u001b[0;36m_create_graph_function\u001b[0;34m(self, args, kwargs, override_flat_arg_shapes)\u001b[0m\n\u001b[1;32m   3306\u001b[0m             \u001b[0marg_names\u001b[0m\u001b[0;34m=\u001b[0m\u001b[0marg_names\u001b[0m\u001b[0;34m,\u001b[0m\u001b[0;34m\u001b[0m\u001b[0;34m\u001b[0m\u001b[0m\n\u001b[1;32m   3307\u001b[0m             \u001b[0moverride_flat_arg_shapes\u001b[0m\u001b[0;34m=\u001b[0m\u001b[0moverride_flat_arg_shapes\u001b[0m\u001b[0;34m,\u001b[0m\u001b[0;34m\u001b[0m\u001b[0;34m\u001b[0m\u001b[0m\n\u001b[0;32m-> 3308\u001b[0;31m             capture_by_value=self._capture_by_value),\n\u001b[0m\u001b[1;32m   3309\u001b[0m         \u001b[0mself\u001b[0m\u001b[0;34m.\u001b[0m\u001b[0m_function_attributes\u001b[0m\u001b[0;34m,\u001b[0m\u001b[0;34m\u001b[0m\u001b[0;34m\u001b[0m\u001b[0m\n\u001b[1;32m   3310\u001b[0m         \u001b[0mfunction_spec\u001b[0m\u001b[0;34m=\u001b[0m\u001b[0mself\u001b[0m\u001b[0;34m.\u001b[0m\u001b[0mfunction_spec\u001b[0m\u001b[0;34m,\u001b[0m\u001b[0;34m\u001b[0m\u001b[0;34m\u001b[0m\u001b[0m\n",
            "\u001b[0;32m/usr/local/lib/python3.7/dist-packages/tensorflow/python/framework/func_graph.py\u001b[0m in \u001b[0;36mfunc_graph_from_py_func\u001b[0;34m(name, python_func, args, kwargs, signature, func_graph, autograph, autograph_options, add_control_dependencies, arg_names, op_return_value, collections, capture_by_value, override_flat_arg_shapes, acd_record_initial_resource_uses)\u001b[0m\n\u001b[1;32m   1005\u001b[0m         \u001b[0m_\u001b[0m\u001b[0;34m,\u001b[0m \u001b[0moriginal_func\u001b[0m \u001b[0;34m=\u001b[0m \u001b[0mtf_decorator\u001b[0m\u001b[0;34m.\u001b[0m\u001b[0munwrap\u001b[0m\u001b[0;34m(\u001b[0m\u001b[0mpython_func\u001b[0m\u001b[0;34m)\u001b[0m\u001b[0;34m\u001b[0m\u001b[0;34m\u001b[0m\u001b[0m\n\u001b[1;32m   1006\u001b[0m \u001b[0;34m\u001b[0m\u001b[0m\n\u001b[0;32m-> 1007\u001b[0;31m       \u001b[0mfunc_outputs\u001b[0m \u001b[0;34m=\u001b[0m \u001b[0mpython_func\u001b[0m\u001b[0;34m(\u001b[0m\u001b[0;34m*\u001b[0m\u001b[0mfunc_args\u001b[0m\u001b[0;34m,\u001b[0m \u001b[0;34m**\u001b[0m\u001b[0mfunc_kwargs\u001b[0m\u001b[0;34m)\u001b[0m\u001b[0;34m\u001b[0m\u001b[0;34m\u001b[0m\u001b[0m\n\u001b[0m\u001b[1;32m   1008\u001b[0m \u001b[0;34m\u001b[0m\u001b[0m\n\u001b[1;32m   1009\u001b[0m       \u001b[0;31m# invariant: `func_outputs` contains only Tensors, CompositeTensors,\u001b[0m\u001b[0;34m\u001b[0m\u001b[0;34m\u001b[0m\u001b[0;34m\u001b[0m\u001b[0m\n",
            "\u001b[0;32m/usr/local/lib/python3.7/dist-packages/tensorflow/python/eager/def_function.py\u001b[0m in \u001b[0;36mwrapped_fn\u001b[0;34m(*args, **kwds)\u001b[0m\n\u001b[1;32m    666\u001b[0m         \u001b[0;31m# the function a weak reference to itself to avoid a reference cycle.\u001b[0m\u001b[0;34m\u001b[0m\u001b[0;34m\u001b[0m\u001b[0;34m\u001b[0m\u001b[0m\n\u001b[1;32m    667\u001b[0m         \u001b[0;32mwith\u001b[0m \u001b[0mOptionalXlaContext\u001b[0m\u001b[0;34m(\u001b[0m\u001b[0mcompile_with_xla\u001b[0m\u001b[0;34m)\u001b[0m\u001b[0;34m:\u001b[0m\u001b[0;34m\u001b[0m\u001b[0;34m\u001b[0m\u001b[0m\n\u001b[0;32m--> 668\u001b[0;31m           \u001b[0mout\u001b[0m \u001b[0;34m=\u001b[0m \u001b[0mweak_wrapped_fn\u001b[0m\u001b[0;34m(\u001b[0m\u001b[0;34m)\u001b[0m\u001b[0;34m.\u001b[0m\u001b[0m__wrapped__\u001b[0m\u001b[0;34m(\u001b[0m\u001b[0;34m*\u001b[0m\u001b[0margs\u001b[0m\u001b[0;34m,\u001b[0m \u001b[0;34m**\u001b[0m\u001b[0mkwds\u001b[0m\u001b[0;34m)\u001b[0m\u001b[0;34m\u001b[0m\u001b[0;34m\u001b[0m\u001b[0m\n\u001b[0m\u001b[1;32m    669\u001b[0m         \u001b[0;32mreturn\u001b[0m \u001b[0mout\u001b[0m\u001b[0;34m\u001b[0m\u001b[0;34m\u001b[0m\u001b[0m\n\u001b[1;32m    670\u001b[0m \u001b[0;34m\u001b[0m\u001b[0m\n",
            "\u001b[0;32m/usr/local/lib/python3.7/dist-packages/tensorflow/python/eager/function.py\u001b[0m in \u001b[0;36mbound_method_wrapper\u001b[0;34m(*args, **kwargs)\u001b[0m\n\u001b[1;32m   3988\u001b[0m     \u001b[0;31m# However, the replacer is still responsible for attaching self properly.\u001b[0m\u001b[0;34m\u001b[0m\u001b[0;34m\u001b[0m\u001b[0;34m\u001b[0m\u001b[0m\n\u001b[1;32m   3989\u001b[0m     \u001b[0;31m# TODO(mdan): Is it possible to do it here instead?\u001b[0m\u001b[0;34m\u001b[0m\u001b[0;34m\u001b[0m\u001b[0;34m\u001b[0m\u001b[0m\n\u001b[0;32m-> 3990\u001b[0;31m     \u001b[0;32mreturn\u001b[0m \u001b[0mwrapped_fn\u001b[0m\u001b[0;34m(\u001b[0m\u001b[0;34m*\u001b[0m\u001b[0margs\u001b[0m\u001b[0;34m,\u001b[0m \u001b[0;34m**\u001b[0m\u001b[0mkwargs\u001b[0m\u001b[0;34m)\u001b[0m\u001b[0;34m\u001b[0m\u001b[0;34m\u001b[0m\u001b[0m\n\u001b[0m\u001b[1;32m   3991\u001b[0m   \u001b[0mweak_bound_method_wrapper\u001b[0m \u001b[0;34m=\u001b[0m \u001b[0mweakref\u001b[0m\u001b[0;34m.\u001b[0m\u001b[0mref\u001b[0m\u001b[0;34m(\u001b[0m\u001b[0mbound_method_wrapper\u001b[0m\u001b[0;34m)\u001b[0m\u001b[0;34m\u001b[0m\u001b[0;34m\u001b[0m\u001b[0m\n\u001b[1;32m   3992\u001b[0m \u001b[0;34m\u001b[0m\u001b[0m\n",
            "\u001b[0;32m/usr/local/lib/python3.7/dist-packages/tensorflow/python/framework/func_graph.py\u001b[0m in \u001b[0;36mwrapper\u001b[0;34m(*args, **kwargs)\u001b[0m\n\u001b[1;32m    992\u001b[0m           \u001b[0;32mexcept\u001b[0m \u001b[0mException\u001b[0m \u001b[0;32mas\u001b[0m \u001b[0me\u001b[0m\u001b[0;34m:\u001b[0m  \u001b[0;31m# pylint:disable=broad-except\u001b[0m\u001b[0;34m\u001b[0m\u001b[0;34m\u001b[0m\u001b[0m\n\u001b[1;32m    993\u001b[0m             \u001b[0;32mif\u001b[0m \u001b[0mhasattr\u001b[0m\u001b[0;34m(\u001b[0m\u001b[0me\u001b[0m\u001b[0;34m,\u001b[0m \u001b[0;34m\"ag_error_metadata\"\u001b[0m\u001b[0;34m)\u001b[0m\u001b[0;34m:\u001b[0m\u001b[0;34m\u001b[0m\u001b[0;34m\u001b[0m\u001b[0m\n\u001b[0;32m--> 994\u001b[0;31m               \u001b[0;32mraise\u001b[0m \u001b[0me\u001b[0m\u001b[0;34m.\u001b[0m\u001b[0mag_error_metadata\u001b[0m\u001b[0;34m.\u001b[0m\u001b[0mto_exception\u001b[0m\u001b[0;34m(\u001b[0m\u001b[0me\u001b[0m\u001b[0;34m)\u001b[0m\u001b[0;34m\u001b[0m\u001b[0;34m\u001b[0m\u001b[0m\n\u001b[0m\u001b[1;32m    995\u001b[0m             \u001b[0;32melse\u001b[0m\u001b[0;34m:\u001b[0m\u001b[0;34m\u001b[0m\u001b[0;34m\u001b[0m\u001b[0m\n\u001b[1;32m    996\u001b[0m               \u001b[0;32mraise\u001b[0m\u001b[0;34m\u001b[0m\u001b[0;34m\u001b[0m\u001b[0m\n",
            "\u001b[0;31mValueError\u001b[0m: in user code:\n\n    <ipython-input-144-55f17094ecad>:15 __call__  *\n        prob = tf.sigmoid(self.logits(x))\n    <ipython-input-144-55f17094ecad>:10 logits  *\n        logits = self.layer5(self.layer4(self.layer3(self.layer2(self.layer1(x)))))\n    <ipython-input-167-2dd307b76753>:34 __call__  *\n        act = tf.nn.relu(tf.math.add(tf.matmul(x, self.weights), self.bias))\n    /usr/local/lib/python3.7/dist-packages/tensorflow/python/util/dispatch.py:206 wrapper  **\n        return target(*args, **kwargs)\n    /usr/local/lib/python3.7/dist-packages/tensorflow/python/ops/math_ops.py:3655 matmul\n        a, b, transpose_a=transpose_a, transpose_b=transpose_b, name=name)\n    /usr/local/lib/python3.7/dist-packages/tensorflow/python/ops/gen_math_ops.py:5714 mat_mul\n        name=name)\n    /usr/local/lib/python3.7/dist-packages/tensorflow/python/framework/op_def_library.py:750 _apply_op_helper\n        attrs=attr_protos, op_def=op_def)\n    /usr/local/lib/python3.7/dist-packages/tensorflow/python/framework/func_graph.py:601 _create_op_internal\n        compute_device)\n    /usr/local/lib/python3.7/dist-packages/tensorflow/python/framework/ops.py:3569 _create_op_internal\n        op_def=op_def)\n    /usr/local/lib/python3.7/dist-packages/tensorflow/python/framework/ops.py:2042 __init__\n        control_input_ops, op_def)\n    /usr/local/lib/python3.7/dist-packages/tensorflow/python/framework/ops.py:1883 _create_c_op\n        raise ValueError(str(e))\n\n    ValueError: Shape must be rank 2 but is rank 1 for '{{node MatMul}} = MatMul[T=DT_DOUBLE, transpose_a=false, transpose_b=false](x, MatMul/ReadVariableOp)' with input shapes: [2], [2,64].\n"
          ]
        }
      ]
    },
    {
      "cell_type": "markdown",
      "metadata": {
        "id": "JYDdQsQHlck7"
      },
      "source": [
        "# Section 5: Plot the model\n",
        "Let's see what the network learned.\n",
        "Generate 100 x values and 100 y values, each in the range (-1, 1).\n",
        "Then compute the value of `probability` (the sigmoid output of your model) using every coordinate in that grid (every pairwise combination of x and y values), and plot a \"map\" of those probabilities using `plt.scatter()` (check out the `c` argument)."
      ]
    },
    {
      "cell_type": "code",
      "metadata": {
        "colab": {
          "base_uri": "https://localhost:8080/",
          "height": 610
        },
        "id": "ldq5hWd0lck7",
        "outputId": "1aa1e0aa-1302-4e08-afdc-fb24a254d39a"
      },
      "source": [
        "X = np.linspace(-1, 1, 100)\n",
        "Y = np.linspace(-1, 1, 100)\n",
        "\n",
        "coords = []\n",
        "\n",
        "for x_i in X:\n",
        "  for y_i in Y:\n",
        "    coords.append([x_i, y_i])\n",
        "coords = np.array(coords)\n",
        "\n",
        "out = FeedForward(coords)\n",
        "final_pred = np.squeeze(np.array(out))\n",
        "\n",
        "plt.figure()\n",
        "plt.scatter(coords[:, 0], coords[:, 1], c = final_pred)"
      ],
      "execution_count": 173,
      "outputs": [
        {
          "output_type": "error",
          "ename": "TypeError",
          "evalue": "ignored",
          "traceback": [
            "\u001b[0;31m---------------------------------------------------------------------------\u001b[0m",
            "\u001b[0;31mTypeError\u001b[0m                                 Traceback (most recent call last)",
            "\u001b[0;32m<ipython-input-173-c06db8e0d7c6>\u001b[0m in \u001b[0;36m<module>\u001b[0;34m()\u001b[0m\n\u001b[1;32m     13\u001b[0m \u001b[0;34m\u001b[0m\u001b[0m\n\u001b[1;32m     14\u001b[0m \u001b[0mplt\u001b[0m\u001b[0;34m.\u001b[0m\u001b[0mfigure\u001b[0m\u001b[0;34m(\u001b[0m\u001b[0;34m)\u001b[0m\u001b[0;34m\u001b[0m\u001b[0;34m\u001b[0m\u001b[0m\n\u001b[0;32m---> 15\u001b[0;31m \u001b[0mplt\u001b[0m\u001b[0;34m.\u001b[0m\u001b[0mscatter\u001b[0m\u001b[0;34m(\u001b[0m\u001b[0mcoords\u001b[0m\u001b[0;34m[\u001b[0m\u001b[0;34m:\u001b[0m\u001b[0;34m,\u001b[0m \u001b[0;36m0\u001b[0m\u001b[0;34m]\u001b[0m\u001b[0;34m,\u001b[0m \u001b[0mcoords\u001b[0m\u001b[0;34m[\u001b[0m\u001b[0;34m:\u001b[0m\u001b[0;34m,\u001b[0m \u001b[0;36m1\u001b[0m\u001b[0;34m]\u001b[0m\u001b[0;34m,\u001b[0m \u001b[0mc\u001b[0m \u001b[0;34m=\u001b[0m \u001b[0mfinal_pred\u001b[0m\u001b[0;34m)\u001b[0m\u001b[0;34m\u001b[0m\u001b[0;34m\u001b[0m\u001b[0m\n\u001b[0m",
            "\u001b[0;32m/usr/local/lib/python3.7/dist-packages/matplotlib/pyplot.py\u001b[0m in \u001b[0;36mscatter\u001b[0;34m(x, y, s, c, marker, cmap, norm, vmin, vmax, alpha, linewidths, verts, edgecolors, plotnonfinite, data, **kwargs)\u001b[0m\n\u001b[1;32m   2814\u001b[0m         \u001b[0mverts\u001b[0m\u001b[0;34m=\u001b[0m\u001b[0mverts\u001b[0m\u001b[0;34m,\u001b[0m \u001b[0medgecolors\u001b[0m\u001b[0;34m=\u001b[0m\u001b[0medgecolors\u001b[0m\u001b[0;34m,\u001b[0m\u001b[0;34m\u001b[0m\u001b[0;34m\u001b[0m\u001b[0m\n\u001b[1;32m   2815\u001b[0m         plotnonfinite=plotnonfinite, **({\"data\": data} if data is not\n\u001b[0;32m-> 2816\u001b[0;31m         None else {}), **kwargs)\n\u001b[0m\u001b[1;32m   2817\u001b[0m     \u001b[0msci\u001b[0m\u001b[0;34m(\u001b[0m\u001b[0m__ret\u001b[0m\u001b[0;34m)\u001b[0m\u001b[0;34m\u001b[0m\u001b[0;34m\u001b[0m\u001b[0m\n\u001b[1;32m   2818\u001b[0m     \u001b[0;32mreturn\u001b[0m \u001b[0m__ret\u001b[0m\u001b[0;34m\u001b[0m\u001b[0;34m\u001b[0m\u001b[0m\n",
            "\u001b[0;32m/usr/local/lib/python3.7/dist-packages/matplotlib/__init__.py\u001b[0m in \u001b[0;36minner\u001b[0;34m(ax, data, *args, **kwargs)\u001b[0m\n\u001b[1;32m   1563\u001b[0m     \u001b[0;32mdef\u001b[0m \u001b[0minner\u001b[0m\u001b[0;34m(\u001b[0m\u001b[0max\u001b[0m\u001b[0;34m,\u001b[0m \u001b[0;34m*\u001b[0m\u001b[0margs\u001b[0m\u001b[0;34m,\u001b[0m \u001b[0mdata\u001b[0m\u001b[0;34m=\u001b[0m\u001b[0;32mNone\u001b[0m\u001b[0;34m,\u001b[0m \u001b[0;34m**\u001b[0m\u001b[0mkwargs\u001b[0m\u001b[0;34m)\u001b[0m\u001b[0;34m:\u001b[0m\u001b[0;34m\u001b[0m\u001b[0;34m\u001b[0m\u001b[0m\n\u001b[1;32m   1564\u001b[0m         \u001b[0;32mif\u001b[0m \u001b[0mdata\u001b[0m \u001b[0;32mis\u001b[0m \u001b[0;32mNone\u001b[0m\u001b[0;34m:\u001b[0m\u001b[0;34m\u001b[0m\u001b[0;34m\u001b[0m\u001b[0m\n\u001b[0;32m-> 1565\u001b[0;31m             \u001b[0;32mreturn\u001b[0m \u001b[0mfunc\u001b[0m\u001b[0;34m(\u001b[0m\u001b[0max\u001b[0m\u001b[0;34m,\u001b[0m \u001b[0;34m*\u001b[0m\u001b[0mmap\u001b[0m\u001b[0;34m(\u001b[0m\u001b[0msanitize_sequence\u001b[0m\u001b[0;34m,\u001b[0m \u001b[0margs\u001b[0m\u001b[0;34m)\u001b[0m\u001b[0;34m,\u001b[0m \u001b[0;34m**\u001b[0m\u001b[0mkwargs\u001b[0m\u001b[0;34m)\u001b[0m\u001b[0;34m\u001b[0m\u001b[0;34m\u001b[0m\u001b[0m\n\u001b[0m\u001b[1;32m   1566\u001b[0m \u001b[0;34m\u001b[0m\u001b[0m\n\u001b[1;32m   1567\u001b[0m         \u001b[0mbound\u001b[0m \u001b[0;34m=\u001b[0m \u001b[0mnew_sig\u001b[0m\u001b[0;34m.\u001b[0m\u001b[0mbind\u001b[0m\u001b[0;34m(\u001b[0m\u001b[0max\u001b[0m\u001b[0;34m,\u001b[0m \u001b[0;34m*\u001b[0m\u001b[0margs\u001b[0m\u001b[0;34m,\u001b[0m \u001b[0;34m**\u001b[0m\u001b[0mkwargs\u001b[0m\u001b[0;34m)\u001b[0m\u001b[0;34m\u001b[0m\u001b[0;34m\u001b[0m\u001b[0m\n",
            "\u001b[0;32m/usr/local/lib/python3.7/dist-packages/matplotlib/cbook/deprecation.py\u001b[0m in \u001b[0;36mwrapper\u001b[0;34m(*args, **kwargs)\u001b[0m\n\u001b[1;32m    356\u001b[0m                 \u001b[0;34mf\"%(removal)s.  If any parameter follows {name!r}, they \"\u001b[0m\u001b[0;34m\u001b[0m\u001b[0;34m\u001b[0m\u001b[0m\n\u001b[1;32m    357\u001b[0m                 f\"should be pass as keyword, not positionally.\")\n\u001b[0;32m--> 358\u001b[0;31m         \u001b[0;32mreturn\u001b[0m \u001b[0mfunc\u001b[0m\u001b[0;34m(\u001b[0m\u001b[0;34m*\u001b[0m\u001b[0margs\u001b[0m\u001b[0;34m,\u001b[0m \u001b[0;34m**\u001b[0m\u001b[0mkwargs\u001b[0m\u001b[0;34m)\u001b[0m\u001b[0;34m\u001b[0m\u001b[0;34m\u001b[0m\u001b[0m\n\u001b[0m\u001b[1;32m    359\u001b[0m \u001b[0;34m\u001b[0m\u001b[0m\n\u001b[1;32m    360\u001b[0m     \u001b[0;32mreturn\u001b[0m \u001b[0mwrapper\u001b[0m\u001b[0;34m\u001b[0m\u001b[0;34m\u001b[0m\u001b[0m\n",
            "\u001b[0;32m/usr/local/lib/python3.7/dist-packages/matplotlib/axes/_axes.py\u001b[0m in \u001b[0;36mscatter\u001b[0;34m(self, x, y, s, c, marker, cmap, norm, vmin, vmax, alpha, linewidths, verts, edgecolors, plotnonfinite, **kwargs)\u001b[0m\n\u001b[1;32m   4401\u001b[0m             self._parse_scatter_color_args(\n\u001b[1;32m   4402\u001b[0m                 \u001b[0mc\u001b[0m\u001b[0;34m,\u001b[0m \u001b[0medgecolors\u001b[0m\u001b[0;34m,\u001b[0m \u001b[0mkwargs\u001b[0m\u001b[0;34m,\u001b[0m \u001b[0mx\u001b[0m\u001b[0;34m.\u001b[0m\u001b[0msize\u001b[0m\u001b[0;34m,\u001b[0m\u001b[0;34m\u001b[0m\u001b[0;34m\u001b[0m\u001b[0m\n\u001b[0;32m-> 4403\u001b[0;31m                 get_next_color_func=self._get_patches_for_fill.get_next_color)\n\u001b[0m\u001b[1;32m   4404\u001b[0m \u001b[0;34m\u001b[0m\u001b[0m\n\u001b[1;32m   4405\u001b[0m         \u001b[0;32mif\u001b[0m \u001b[0mplotnonfinite\u001b[0m \u001b[0;32mand\u001b[0m \u001b[0mcolors\u001b[0m \u001b[0;32mis\u001b[0m \u001b[0;32mNone\u001b[0m\u001b[0;34m:\u001b[0m\u001b[0;34m\u001b[0m\u001b[0;34m\u001b[0m\u001b[0m\n",
            "\u001b[0;32m/usr/local/lib/python3.7/dist-packages/matplotlib/axes/_axes.py\u001b[0m in \u001b[0;36m_parse_scatter_color_args\u001b[0;34m(c, edgecolors, kwargs, xsize, get_next_color_func)\u001b[0m\n\u001b[1;32m   4197\u001b[0m         c_is_string_or_strings = (\n\u001b[1;32m   4198\u001b[0m             \u001b[0misinstance\u001b[0m\u001b[0;34m(\u001b[0m\u001b[0mc\u001b[0m\u001b[0;34m,\u001b[0m \u001b[0mstr\u001b[0m\u001b[0;34m)\u001b[0m\u001b[0;34m\u001b[0m\u001b[0;34m\u001b[0m\u001b[0m\n\u001b[0;32m-> 4199\u001b[0;31m             or (isinstance(c, collections.abc.Iterable) and len(c) > 0\n\u001b[0m\u001b[1;32m   4200\u001b[0m                 and isinstance(cbook.safe_first_element(c), str)))\n\u001b[1;32m   4201\u001b[0m \u001b[0;34m\u001b[0m\u001b[0m\n",
            "\u001b[0;31mTypeError\u001b[0m: len() of unsized object"
          ]
        },
        {
          "output_type": "display_data",
          "data": {
            "image/png": "[encoded data removed]",
            "text/plain": [
              "<Figure size 432x288 with 1 Axes>"
            ]
          },
          "metadata": {
            "needs_background": "light"
          }
        }
      ]
    },
    {
      "cell_type": "markdown",
      "metadata": {
        "id": "_CH6weYxlck7"
      },
      "source": [
        "# Section 6: TensorBoard plots\n",
        "This time, we have some more interesting TensorBoard plots than last time.\n",
        "Run TensorBoard, and look at:\n",
        " - The model graph in Graphs\n",
        " - The loss over time in Scalars\n",
        " - The weights, biases, and gradients over time in Distributions and Histograms\n",
        " \n",
        "The loss should decrease over time, and eventually stabilize (with some noise).\n",
        "\n",
        "The gradients for weights and biases may not go to zero, and your weights and biases may not look like they're converging.\n",
        "This is because of \"bias drift\" where multiple possible settings of weights and biases have the same loss value.\n",
        "To fix this, we could add a term to the loss which penalizes the model slightly based on the magnitude of the bias terms."
      ]
    },
    {
      "cell_type": "markdown",
      "metadata": {
        "id": "Sb9wWNaDlck7"
      },
      "source": [
        "# Section 7: Again, but in Keras\n",
        "Make a Keras Sequential model which is equivalent to the one we've trained in TensorFlow.\n",
        "Train it on the same dataset, and again plot its output in the same way. \n",
        "\n",
        "Hints:\n",
        " - This won't take nearly as long as the previous sections\n",
        " - You don't need to use `keras.utils.to_categorical` since this is binary classification.\n",
        " - The appropriate loss function is 'binary_crossentropy'\n",
        " - To implement the same loss weighting, use `class_weight={0: 1.0, 1:20.0}` in `model.fit()`\n",
        " - You can get the outputs of the model over the entire grid at once with `model.predict()`"
      ]
    },
    {
      "cell_type": "markdown",
      "metadata": {
        "id": "-aN9fhPalck8"
      },
      "source": [
        "### 7.1: Build a model\n",
        "Use `keras.models.Sequential` to build the same FCN as before."
      ]
    },
    {
      "cell_type": "code",
      "metadata": {
        "id": "X7nqhtiglck8"
      },
      "source": [
        "import keras\n",
        "from keras.models import Sequential\n",
        "from keras.layers import Dense, Activation\n",
        "\n",
        "# Create an \"empty\" model\n",
        "model = Sequential()\n",
        "\n",
        "# Add a 64-unit dense layer with no activation function\n",
        "# input_shape only required for the first layer\n",
        "model.add( Dense(64, activation=\"ReLU\", input_shape=(2,)))\n",
        "model.add( Dense(64, activation=\"ReLU\"))\n",
        "model.add( Dense(64, activation=\"ReLU\"))\n",
        "model.add( Dense(64, activation=\"ReLU\"))\n",
        "\n",
        "# Output layer, for 1-class classification: \n",
        "model.add(Dense(1, \"sigmoid\"))"
      ],
      "execution_count": 149,
      "outputs": []
    },
    {
      "cell_type": "markdown",
      "metadata": {
        "id": "TE99PZgxlck8"
      },
      "source": [
        "### 7.2: Define an optimizer and compile the model"
      ]
    },
    {
      "cell_type": "code",
      "metadata": {
        "colab": {
          "base_uri": "https://localhost:8080/"
        },
        "id": "YAZ8kPKklck9",
        "outputId": "6341c5b4-16a6-4aac-eec2-44049387b374"
      },
      "source": [
        "from tensorflow.keras.optimizers import SGD\n",
        "\n",
        "optimizer = SGD(lr=2e-3, momentum=0.9)"
      ],
      "execution_count": 150,
      "outputs": [
        {
          "output_type": "stream",
          "name": "stderr",
          "text": [
            "/usr/local/lib/python3.7/dist-packages/keras/optimizer_v2/optimizer_v2.py:356: UserWarning: The `lr` argument is deprecated, use `learning_rate` instead.\n",
            "  \"The `lr` argument is deprecated, use `learning_rate` instead.\")\n"
          ]
        }
      ]
    },
    {
      "cell_type": "code",
      "metadata": {
        "id": "TM7D_NCAZB6S"
      },
      "source": [
        "model.compile(optimizer=optimizer,\n",
        "              loss='binary_crossentropy',\n",
        "              metrics=['binary_accuracy',\n",
        "                       'binary_crossentropy'])"
      ],
      "execution_count": 151,
      "outputs": []
    },
    {
      "cell_type": "markdown",
      "metadata": {
        "id": "F0pdzmR2lck9"
      },
      "source": [
        "### 7.3: Fit the model"
      ]
    },
    {
      "cell_type": "code",
      "metadata": {
        "colab": {
          "base_uri": "https://localhost:8080/"
        },
        "id": "Au-5ac9Xlck9",
        "outputId": "410e4ddd-c833-4b6f-bbb2-a5b285376d1e"
      },
      "source": [
        "model.fit(data, labels,\n",
        "          epochs=50, batch_size=32, class_weight={0: 1.0, 1:20.0})"
      ],
      "execution_count": 154,
      "outputs": [
        {
          "output_type": "stream",
          "name": "stdout",
          "text": [
            "Epoch 1/50\n",
            "893/893 [==============================] - 2s 2ms/step - loss: 0.5893 - binary_accuracy: 0.8123 - binary_crossentropy: 0.3257\n",
            "Epoch 2/50\n",
            "893/893 [==============================] - 2s 2ms/step - loss: 0.5361 - binary_accuracy: 0.8220 - binary_crossentropy: 0.3029\n",
            "Epoch 3/50\n",
            "893/893 [==============================] - 2s 2ms/step - loss: 0.5425 - binary_accuracy: 0.8278 - binary_crossentropy: 0.3046\n",
            "Epoch 4/50\n",
            "893/893 [==============================] - 2s 2ms/step - loss: 0.5641 - binary_accuracy: 0.8209 - binary_crossentropy: 0.3076\n",
            "Epoch 5/50\n",
            "893/893 [==============================] - 2s 2ms/step - loss: 0.5317 - binary_accuracy: 0.8285 - binary_crossentropy: 0.3029\n",
            "Epoch 6/50\n",
            "893/893 [==============================] - 2s 2ms/step - loss: 0.5105 - binary_accuracy: 0.8408 - binary_crossentropy: 0.2857\n",
            "Epoch 7/50\n",
            "893/893 [==============================] - 2s 2ms/step - loss: 0.4849 - binary_accuracy: 0.8457 - binary_crossentropy: 0.2754\n",
            "Epoch 8/50\n",
            "893/893 [==============================] - 2s 2ms/step - loss: 0.5327 - binary_accuracy: 0.8296 - binary_crossentropy: 0.2999\n",
            "Epoch 9/50\n",
            "893/893 [==============================] - 2s 2ms/step - loss: 0.4825 - binary_accuracy: 0.8451 - binary_crossentropy: 0.2758\n",
            "Epoch 10/50\n",
            "893/893 [==============================] - 2s 2ms/step - loss: 0.4833 - binary_accuracy: 0.8471 - binary_crossentropy: 0.2787\n",
            "Epoch 11/50\n",
            "893/893 [==============================] - 2s 2ms/step - loss: 0.4759 - binary_accuracy: 0.8484 - binary_crossentropy: 0.2693\n",
            "Epoch 12/50\n",
            "893/893 [==============================] - 2s 2ms/step - loss: 0.4392 - binary_accuracy: 0.8595 - binary_crossentropy: 0.2534\n",
            "Epoch 13/50\n",
            "893/893 [==============================] - 2s 2ms/step - loss: 0.4604 - binary_accuracy: 0.8521 - binary_crossentropy: 0.2646\n",
            "Epoch 14/50\n",
            "893/893 [==============================] - 2s 2ms/step - loss: 0.4380 - binary_accuracy: 0.8583 - binary_crossentropy: 0.2560\n",
            "Epoch 15/50\n",
            "893/893 [==============================] - 2s 2ms/step - loss: 0.4445 - binary_accuracy: 0.8500 - binary_crossentropy: 0.2626\n",
            "Epoch 16/50\n",
            "893/893 [==============================] - 2s 2ms/step - loss: 0.4585 - binary_accuracy: 0.8550 - binary_crossentropy: 0.2647\n",
            "Epoch 17/50\n",
            "893/893 [==============================] - 2s 2ms/step - loss: 0.4225 - binary_accuracy: 0.8626 - binary_crossentropy: 0.2468\n",
            "Epoch 18/50\n",
            "893/893 [==============================] - 2s 2ms/step - loss: 0.4407 - binary_accuracy: 0.8598 - binary_crossentropy: 0.2564\n",
            "Epoch 19/50\n",
            "893/893 [==============================] - 2s 2ms/step - loss: 0.4337 - binary_accuracy: 0.8600 - binary_crossentropy: 0.2509\n",
            "Epoch 20/50\n",
            "893/893 [==============================] - 2s 2ms/step - loss: 0.4033 - binary_accuracy: 0.8700 - binary_crossentropy: 0.2370\n",
            "Epoch 21/50\n",
            "893/893 [==============================] - 2s 2ms/step - loss: 0.4295 - binary_accuracy: 0.8568 - binary_crossentropy: 0.2529\n",
            "Epoch 22/50\n",
            "893/893 [==============================] - 2s 2ms/step - loss: 0.4076 - binary_accuracy: 0.8661 - binary_crossentropy: 0.2383\n",
            "Epoch 23/50\n",
            "893/893 [==============================] - 2s 2ms/step - loss: 0.4413 - binary_accuracy: 0.8610 - binary_crossentropy: 0.2632\n",
            "Epoch 24/50\n",
            "893/893 [==============================] - 2s 2ms/step - loss: 0.3871 - binary_accuracy: 0.8774 - binary_crossentropy: 0.2265\n",
            "Epoch 25/50\n",
            "893/893 [==============================] - 2s 2ms/step - loss: 0.4189 - binary_accuracy: 0.8670 - binary_crossentropy: 0.2464\n",
            "Epoch 26/50\n",
            "893/893 [==============================] - 2s 2ms/step - loss: 0.3875 - binary_accuracy: 0.8771 - binary_crossentropy: 0.2292\n",
            "Epoch 27/50\n",
            "893/893 [==============================] - 2s 2ms/step - loss: 0.3930 - binary_accuracy: 0.8796 - binary_crossentropy: 0.2332\n",
            "Epoch 28/50\n",
            "893/893 [==============================] - 2s 2ms/step - loss: 0.3811 - binary_accuracy: 0.8781 - binary_crossentropy: 0.2274\n",
            "Epoch 29/50\n",
            "893/893 [==============================] - 2s 2ms/step - loss: 0.4208 - binary_accuracy: 0.8743 - binary_crossentropy: 0.2447\n",
            "Epoch 30/50\n",
            "893/893 [==============================] - 2s 2ms/step - loss: 0.3738 - binary_accuracy: 0.8855 - binary_crossentropy: 0.2218\n",
            "Epoch 31/50\n",
            "893/893 [==============================] - 2s 2ms/step - loss: 0.3729 - binary_accuracy: 0.8835 - binary_crossentropy: 0.2272\n",
            "Epoch 32/50\n",
            "893/893 [==============================] - 2s 2ms/step - loss: 0.3863 - binary_accuracy: 0.8822 - binary_crossentropy: 0.2292\n",
            "Epoch 33/50\n",
            "893/893 [==============================] - 2s 2ms/step - loss: 0.3604 - binary_accuracy: 0.8890 - binary_crossentropy: 0.2193\n",
            "Epoch 34/50\n",
            "893/893 [==============================] - 2s 2ms/step - loss: 0.3497 - binary_accuracy: 0.8950 - binary_crossentropy: 0.2124\n",
            "Epoch 35/50\n",
            "893/893 [==============================] - 2s 2ms/step - loss: 0.3483 - binary_accuracy: 0.8982 - binary_crossentropy: 0.2084\n",
            "Epoch 36/50\n",
            "893/893 [==============================] - 2s 2ms/step - loss: 0.3389 - binary_accuracy: 0.9012 - binary_crossentropy: 0.2081\n",
            "Epoch 37/50\n",
            "893/893 [==============================] - 2s 2ms/step - loss: 0.3645 - binary_accuracy: 0.8893 - binary_crossentropy: 0.2195\n",
            "Epoch 38/50\n",
            "893/893 [==============================] - 2s 2ms/step - loss: 0.3656 - binary_accuracy: 0.8951 - binary_crossentropy: 0.2136\n",
            "Epoch 39/50\n",
            "893/893 [==============================] - 2s 2ms/step - loss: 0.3603 - binary_accuracy: 0.8965 - binary_crossentropy: 0.2114\n",
            "Epoch 40/50\n",
            "893/893 [==============================] - 2s 2ms/step - loss: 0.3245 - binary_accuracy: 0.9023 - binary_crossentropy: 0.2013\n",
            "Epoch 41/50\n",
            "893/893 [==============================] - 2s 2ms/step - loss: 0.3325 - binary_accuracy: 0.9028 - binary_crossentropy: 0.2048\n",
            "Epoch 42/50\n",
            "893/893 [==============================] - 2s 2ms/step - loss: 0.3285 - binary_accuracy: 0.9046 - binary_crossentropy: 0.1972\n",
            "Epoch 43/50\n",
            "893/893 [==============================] - 2s 2ms/step - loss: 0.3571 - binary_accuracy: 0.8980 - binary_crossentropy: 0.2140\n",
            "Epoch 44/50\n",
            "893/893 [==============================] - 2s 2ms/step - loss: 0.3395 - binary_accuracy: 0.9004 - binary_crossentropy: 0.2013\n",
            "Epoch 45/50\n",
            "893/893 [==============================] - 2s 2ms/step - loss: 0.3461 - binary_accuracy: 0.8986 - binary_crossentropy: 0.2122\n",
            "Epoch 46/50\n",
            "893/893 [==============================] - 2s 2ms/step - loss: 0.3251 - binary_accuracy: 0.9035 - binary_crossentropy: 0.1992\n",
            "Epoch 47/50\n",
            "893/893 [==============================] - 2s 2ms/step - loss: 0.3255 - binary_accuracy: 0.9076 - binary_crossentropy: 0.1979\n",
            "Epoch 48/50\n",
            "893/893 [==============================] - 2s 2ms/step - loss: 0.3063 - binary_accuracy: 0.9112 - binary_crossentropy: 0.1865\n",
            "Epoch 49/50\n",
            "893/893 [==============================] - 2s 2ms/step - loss: 0.3078 - binary_accuracy: 0.9122 - binary_crossentropy: 0.1903\n",
            "Epoch 50/50\n",
            "893/893 [==============================] - 2s 2ms/step - loss: 0.3011 - binary_accuracy: 0.9123 - binary_crossentropy: 0.1837\n"
          ]
        },
        {
          "output_type": "execute_result",
          "data": {
            "text/plain": [
              "<keras.callbacks.History at 0x7f4abdd4a890>"
            ]
          },
          "metadata": {},
          "execution_count": 154
        }
      ]
    },
    {
      "cell_type": "markdown",
      "metadata": {
        "id": "r3Pkinyflck9"
      },
      "source": [
        "### 7.4: Plot the model"
      ]
    },
    {
      "cell_type": "code",
      "metadata": {
        "colab": {
          "base_uri": "https://localhost:8080/",
          "height": 282
        },
        "id": "ib301bowlck9",
        "outputId": "d33f3de7-78a7-405f-cd95-32193be01857"
      },
      "source": [
        "X = np.linspace(-1, 1, 100)\n",
        "Y = np.linspace(-1, 1, 100)\n",
        "\n",
        "coords = []\n",
        "\n",
        "for x_i in X:\n",
        "  for y_i in Y:\n",
        "    coords.append([x_i, y_i])\n",
        "coords = np.array(coords)\n",
        "\n",
        "out = model.predict(coords)\n",
        "final_pred = np.squeeze(np.array(out))\n",
        "\n",
        "plt.figure()\n",
        "plt.scatter(coords[:, 0], coords[:, 1], c = final_pred)\n"
      ],
      "execution_count": 155,
      "outputs": [
        {
          "output_type": "execute_result",
          "data": {
            "text/plain": [
              "<matplotlib.collections.PathCollection at 0x7f4abd9dbb50>"
            ]
          },
          "metadata": {},
          "execution_count": 155
        },
        {
          "output_type": "display_data",
          "data": {
            "image/png": "[encoded data removed]",
            "text/plain": [
              "<Figure size 432x288 with 1 Axes>"
            ]
          },
          "metadata": {
            "needs_background": "light"
          }
        }
      ]
    }
  ]
}