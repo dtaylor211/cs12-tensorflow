{
  "nbformat": 4,
  "nbformat_minor": 0,
  "metadata": {
    "kernelspec": {
      "display_name": "Python 3",
      "language": "python",
      "name": "python3"
    },
    "language_info": {
      "codemirror_mode": {
        "name": "ipython",
        "version": 3
      },
      "file_extension": ".py",
      "mimetype": "text/x-python",
      "name": "python",
      "nbconvert_exporter": "python",
      "pygments_lexer": "ipython3",
      "version": "3.6.9"
    },
    "colab": {
      "name": "lab_5.ipynb",
      "provenance": []
    }
  },
  "cells": [
    {
      "cell_type": "markdown",
      "metadata": {
        "id": "h_Xby4P8rhIN"
      },
      "source": [
        "# Lab 5: A Black-Box Adversarial Attack\n",
        "In this lab, we'll carry out an adversarial attack in the **black box** case: we don't have the weights of the network we're trying to trick (the **target model**), and instead we can only give it inputs and see its outputs.\n",
        "\n",
        "Black-box adversarial attacks are based on the fact that adversarial examples are _transferable_: if it tricks one network, it will likely trick another (but less well).\n",
        "So, since we need network weights to make adversarial examples, we train a second model, the **surrogate model**, to act like the target model.\n",
        "To do this, we'll use the target model as an \"oracle\" to make a dataset where the features are from real examples, and the labels are the outputs of the target model on those examples.\n",
        "If the surrogate model learns to output the same probabilities as the target model on a given input, its internal representations are likely similar.\n",
        "Then, when we make an adversarial example for the surrogate model, it should also trick the target model.\n",
        "\n",
        "The end result of this lab should be an image which looks close to some image in the dataset, but tricks the target network into assigning high confidence to some other class. "
      ]
    },
    {
      "cell_type": "markdown",
      "metadata": {
        "id": "vV9Cunbcro9m"
      },
      "source": [
        "# Link : https://colab.research.google.com/drive/1Q9A83J4NeXrPjdknJyYScverxizH-P_v#scrollTo=vV9Cunbcro9m"
      ]
    },
    {
      "cell_type": "markdown",
      "metadata": {
        "id": "LPcFVQG6rhIT"
      },
      "source": [
        "## Section 0: Load the data\n",
        "This uses the same dataset as last time, so just copy the data over here in the same format.\n",
        "The same data loading and preprocessing as before is in place."
      ]
    },
    {
      "cell_type": "code",
      "metadata": {
        "id": "2GKHWzDsrhIU"
      },
      "source": [
        "%matplotlib inline\n",
        "import numpy as np\n",
        "import tensorflow as tf\n",
        "import matplotlib.pyplot as plt"
      ],
      "execution_count": 1,
      "outputs": []
    },
    {
      "cell_type": "code",
      "metadata": {
        "colab": {
          "resources": {
            "http://localhost:8080/nbextensions/google.colab/files.js": {
              "data": "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",
              "ok": true,
              "headers": [
                [
                  "content-type",
                  "application/javascript"
                ]
              ],
              "status": 200,
              "status_text": ""
            }
          },
          "base_uri": "https://localhost:8080/",
          "height": 106
        },
        "id": "2_895RtLsEh6",
        "outputId": "f3e7fcc0-b468-4338-be0d-fda29485721e"
      },
      "source": [
        "# I used this to upload the data files onto the google colab platform\n",
        "# I also had to manually create a data folder\n",
        "\n",
        "from google.colab import files\n",
        "def getLocalFiles():\n",
        "    _files = files.upload()\n",
        "    if len(_files) >0:\n",
        "       for k,v in _files.items():\n",
        "         open(k,'wb').write(v)\n",
        "getLocalFiles()"
      ],
      "execution_count": 2,
      "outputs": [
        {
          "output_type": "display_data",
          "data": {
            "text/html": [
              "\n",
              "     <input type=\"file\" id=\"files-34bfd74d-a351-45a8-bd4a-2f51f8673553\" name=\"files[]\" multiple disabled\n",
              "        style=\"border:none\" />\n",
              "     <output id=\"result-34bfd74d-a351-45a8-bd4a-2f51f8673553\">\n",
              "      Upload widget is only available when the cell has been executed in the\n",
              "      current browser session. Please rerun this cell to enable.\n",
              "      </output>\n",
              "      <script src=\"/nbextensions/google.colab/files.js\"></script> "
            ],
            "text/plain": [
              "<IPython.core.display.HTML object>"
            ]
          },
          "metadata": {}
        },
        {
          "output_type": "stream",
          "name": "stdout",
          "text": [
            "Saving X.npy to X.npy\n",
            "Saving Y.npy to Y.npy\n"
          ]
        }
      ]
    },
    {
      "cell_type": "code",
      "metadata": {
        "id": "tXAByrJMrhIV"
      },
      "source": [
        "# Seed numpy rng for reproducibility\n",
        "np.random.seed(1337)\n",
        "\n",
        "# Load data\n",
        "x_all = np.load('data/X.npy')\n",
        "y_all = np.load('data/Y.npy')\n",
        "\n",
        "# Maps dataset-provided label to true label\n",
        "label_map = {0:9, 1:0, 2:7, 3:6, 4:1, 5:8, 6:4, 7:3, 8:2, 9:5}\n",
        "\n",
        "# Correct dataset labels\n",
        "for row in range(y_all.shape[0]):\n",
        "    dataset_label = np.where(y_all[row])[0][0]\n",
        "    y_all[row, :] = np.zeros(10)\n",
        "    y_all[row, label_map[dataset_label]] = 1\n",
        "    \n",
        "# Shuffle features and targets together\n",
        "# Credit for this technique to:\n",
        "# https://stackoverflow.com/questions/4601373/\n",
        "# better-way-to-shuffle-two-numpy-arrays-in-unison\n",
        "rng_state = np.random.get_state()\n",
        "np.random.shuffle(x_all)\n",
        "np.random.set_state(rng_state)\n",
        "np.random.shuffle(y_all)\n",
        "\n",
        "# Add a dummy channel axis to input images\n",
        "x_all = np.expand_dims(x_all, axis=-1)\n",
        "\n",
        "# Center and rescale data to the range [-1, 1]\n",
        "x_all = x_all - 0.5\n",
        "x_all = x_all * 2\n",
        "\n",
        "# Create a validation set from 30% of the available data\n",
        "n_points = x_all.shape[0]\n",
        "n_test = int(n_points * 0.3)\n",
        "n_train = n_points - n_test\n",
        "x_train, x_test = np.split(x_all, [n_train], axis=0)\n",
        "y_train, y_test = np.split(y_all, [n_train], axis=0)"
      ],
      "execution_count": 3,
      "outputs": []
    },
    {
      "cell_type": "markdown",
      "metadata": {
        "id": "Ibdc-ZH1rhIW"
      },
      "source": [
        "## Section 1: Train the black-box model\n",
        "Below, I've written a CNN in Keras to classify images from the dataset, and the code to train it.\n",
        "This will act as the \"black box model.\"\n",
        "\n",
        "Train the model using the code below.\n",
        "It should hit about 95-96% validation accuracy on the dataset."
      ]
    },
    {
      "cell_type": "code",
      "metadata": {
        "colab": {
          "base_uri": "https://localhost:8080/"
        },
        "id": "HA8QPq4IrhIX",
        "outputId": "47798bbc-7f81-4909-bb77-09a74c82eb42"
      },
      "source": [
        "from keras.models import Model\n",
        "from keras.layers import Input, Conv2D, Dense, Flatten, MaxPool2D\n",
        "\n",
        "inputs = Input(shape=(64, 64, 1))\n",
        "layer = Conv2D(16, 5, strides=(2, 2), activation='relu')(inputs)\n",
        "layer = Conv2D(16, 3, activation='relu')(layer)\n",
        "layer = MaxPool2D()(layer)\n",
        "\n",
        "layer = Conv2D(32, 3, activation='relu')(layer)\n",
        "layer = Conv2D(32, 3, activation='relu')(layer)\n",
        "layer = MaxPool2D()(layer)\n",
        "\n",
        "layer = Conv2D(64, 3, padding='same', activation='relu')(layer)\n",
        "layer = Conv2D(64, 3, padding='same', activation='relu')(layer)\n",
        "layer = MaxPool2D()(layer)\n",
        "\n",
        "layer = Flatten()(layer)\n",
        "layer = Dense(128, activation='relu')(layer)\n",
        "probs = Dense(10, activation='softmax')(layer)\n",
        "\n",
        "target_model = Model(inputs, probs)\n",
        "target_model.summary()"
      ],
      "execution_count": 4,
      "outputs": [
        {
          "output_type": "stream",
          "name": "stdout",
          "text": [
            "Model: \"model\"\n",
            "_________________________________________________________________\n",
            " Layer (type)                Output Shape              Param #   \n",
            "=================================================================\n",
            " input_1 (InputLayer)        [(None, 64, 64, 1)]       0         \n",
            "                                                                 \n",
            " conv2d (Conv2D)             (None, 30, 30, 16)        416       \n",
            "                                                                 \n",
            " conv2d_1 (Conv2D)           (None, 28, 28, 16)        2320      \n",
            "                                                                 \n",
            " max_pooling2d (MaxPooling2D  (None, 14, 14, 16)       0         \n",
            " )                                                               \n",
            "                                                                 \n",
            " conv2d_2 (Conv2D)           (None, 12, 12, 32)        4640      \n",
            "                                                                 \n",
            " conv2d_3 (Conv2D)           (None, 10, 10, 32)        9248      \n",
            "                                                                 \n",
            " max_pooling2d_1 (MaxPooling  (None, 5, 5, 32)         0         \n",
            " 2D)                                                             \n",
            "                                                                 \n",
            " conv2d_4 (Conv2D)           (None, 5, 5, 64)          18496     \n",
            "                                                                 \n",
            " conv2d_5 (Conv2D)           (None, 5, 5, 64)          36928     \n",
            "                                                                 \n",
            " max_pooling2d_2 (MaxPooling  (None, 2, 2, 64)         0         \n",
            " 2D)                                                             \n",
            "                                                                 \n",
            " flatten (Flatten)           (None, 256)               0         \n",
            "                                                                 \n",
            " dense (Dense)               (None, 128)               32896     \n",
            "                                                                 \n",
            " dense_1 (Dense)             (None, 10)                1290      \n",
            "                                                                 \n",
            "=================================================================\n",
            "Total params: 106,234\n",
            "Trainable params: 106,234\n",
            "Non-trainable params: 0\n",
            "_________________________________________________________________\n"
          ]
        }
      ]
    },
    {
      "cell_type": "code",
      "metadata": {
        "id": "6ruTgB7drhIY"
      },
      "source": [
        "from tensorflow.keras.optimizers import Adam\n",
        "\n",
        "opt = Adam(1e-3)\n",
        "target_model.compile(opt, loss='categorical_crossentropy',\n",
        "              metrics=['accuracy'])"
      ],
      "execution_count": 5,
      "outputs": []
    },
    {
      "cell_type": "code",
      "metadata": {
        "colab": {
          "base_uri": "https://localhost:8080/"
        },
        "id": "S4hO0-a5rhIZ",
        "outputId": "719348bc-f843-472a-bf56-49c8fcaf4284"
      },
      "source": [
        "target_model.fit(x_train, y_train, \n",
        "                 validation_data=(x_test, y_test),\n",
        "                 epochs=15)"
      ],
      "execution_count": 6,
      "outputs": [
        {
          "output_type": "stream",
          "name": "stdout",
          "text": [
            "Epoch 1/15\n",
            "46/46 [==============================] - 4s 60ms/step - loss: 2.0208 - accuracy: 0.2708 - val_loss: 1.2602 - val_accuracy: 0.6019\n",
            "Epoch 2/15\n",
            "46/46 [==============================] - 3s 56ms/step - loss: 0.8107 - accuracy: 0.7292 - val_loss: 0.7361 - val_accuracy: 0.7751\n",
            "Epoch 3/15\n",
            "46/46 [==============================] - 3s 58ms/step - loss: 0.4722 - accuracy: 0.8435 - val_loss: 0.4606 - val_accuracy: 0.8447\n",
            "Epoch 4/15\n",
            "46/46 [==============================] - 3s 61ms/step - loss: 0.2468 - accuracy: 0.9224 - val_loss: 0.2677 - val_accuracy: 0.9207\n",
            "Epoch 5/15\n",
            "46/46 [==============================] - 3s 58ms/step - loss: 0.1924 - accuracy: 0.9335 - val_loss: 0.3338 - val_accuracy: 0.9045\n",
            "Epoch 6/15\n",
            "46/46 [==============================] - 3s 58ms/step - loss: 0.1223 - accuracy: 0.9619 - val_loss: 0.2657 - val_accuracy: 0.9239\n",
            "Epoch 7/15\n",
            "46/46 [==============================] - 3s 58ms/step - loss: 0.0607 - accuracy: 0.9785 - val_loss: 0.2787 - val_accuracy: 0.9239\n",
            "Epoch 8/15\n",
            "46/46 [==============================] - 3s 58ms/step - loss: 0.0650 - accuracy: 0.9758 - val_loss: 0.2897 - val_accuracy: 0.9288\n",
            "Epoch 9/15\n",
            "46/46 [==============================] - 3s 56ms/step - loss: 0.0226 - accuracy: 0.9958 - val_loss: 0.2278 - val_accuracy: 0.9466\n",
            "Epoch 10/15\n",
            "46/46 [==============================] - 3s 57ms/step - loss: 0.0310 - accuracy: 0.9903 - val_loss: 0.3327 - val_accuracy: 0.9417\n",
            "Epoch 11/15\n",
            "46/46 [==============================] - 3s 58ms/step - loss: 0.0748 - accuracy: 0.9751 - val_loss: 0.2523 - val_accuracy: 0.9385\n",
            "Epoch 12/15\n",
            "46/46 [==============================] - 3s 58ms/step - loss: 0.0179 - accuracy: 0.9945 - val_loss: 0.3299 - val_accuracy: 0.9385\n",
            "Epoch 13/15\n",
            "46/46 [==============================] - 3s 56ms/step - loss: 0.0159 - accuracy: 0.9945 - val_loss: 0.3129 - val_accuracy: 0.9337\n",
            "Epoch 14/15\n",
            "46/46 [==============================] - 3s 56ms/step - loss: 0.0057 - accuracy: 0.9986 - val_loss: 0.2153 - val_accuracy: 0.9563\n",
            "Epoch 15/15\n",
            "46/46 [==============================] - 3s 56ms/step - loss: 0.0072 - accuracy: 0.9986 - val_loss: 0.2186 - val_accuracy: 0.9612\n"
          ]
        },
        {
          "output_type": "execute_result",
          "data": {
            "text/plain": [
              "<keras.callbacks.History at 0x7fd6a59ad490>"
            ]
          },
          "metadata": {},
          "execution_count": 6
        }
      ]
    },
    {
      "cell_type": "markdown",
      "metadata": {
        "id": "NFh0m-MXrhIZ"
      },
      "source": [
        "## Section 2: Build an \"oracle dataset\" and data pipeline\n",
        "Now, we'll treat the target model as a black box: pretend we don't have access to its weights or its original input data.\n",
        "In the wild, all we can do is give it inputs and see its outputs.\n",
        "\n",
        "We want to train a surrogate model to act similarly to the target model, so create a fake \"oracle dataset\" where the features are `x_all` and the outputs are the 10-vectors of probability the target model predicts for that input.\n",
        "\n",
        "Then, set up any `tf.data.Dataset` objects you need.\n",
        "In this case we don't have a test set, just a training set. Add `tf.summary.SummaryWriter`s to save logs to `./logs/surrogate` and `./logs/adversarial`."
      ]
    },
    {
      "cell_type": "code",
      "metadata": {
        "id": "IdUI9U6rrhIZ"
      },
      "source": [
        "n_epochs = 10\n",
        "batch_size = 16\n",
        "\n",
        "n_batches_per_epoch = len(y_all) // batch_size\n",
        "dataset = tf.data.Dataset.from_tensor_slices((x_all, y_all))\\\n",
        "    .shuffle(x_all.shape[0]).batch(batch_size).cache().repeat(n_epochs)\n",
        "\n",
        "surrogate_writer = tf.summary.create_file_writer('./logs/surrogate')\n",
        "adversarial_writer = tf.summary.create_file_writer('./logs/adversarial')"
      ],
      "execution_count": 7,
      "outputs": []
    },
    {
      "cell_type": "markdown",
      "metadata": {
        "id": "JzUR-mwMrhIa"
      },
      "source": [
        "## Section 3: Build a surrogate model\n",
        "The surrogate model is designed to act similarly to the target model, so that adversarial examples we create for it will also work on the target model.\n",
        "Feel free to use any architecture you want, but matching the target architecture closely (maybe with a bit more capacity) is a good bet.\n",
        "\n",
        "Copy code from last week's assignment liberally.\n",
        "Most likely, you won't have to write all that much new code in this section.\n",
        "\n",
        "This should involve tensors that:\n",
        " - Act as hidden convolutional and dense layers\n",
        " - Compute the logits and probabilities for a batch of input images\n",
        " - Compute the predicted digit from the probabilities\n",
        " - Compute the mean cross-entropy loss over a batch"
      ]
    },
    {
      "cell_type": "markdown",
      "metadata": {
        "id": "uZRZy_AOrhIa"
      },
      "source": [
        "### 3.1 Dense and convolutional layers\n",
        "Copy the `Dense` and `Conv` classes you wrote last week here. You will need them to construct the graph of your surrogate model."
      ]
    },
    {
      "cell_type": "code",
      "metadata": {
        "id": "XC_BFLMMrhIa"
      },
      "source": [
        "class Dense(tf.Module):\n",
        "    '''\n",
        "    Creates a dense layer module.\n",
        "    \n",
        "    Parameters\n",
        "    ----------\n",
        "    dim_input: int\n",
        "        Number of features in the input representation.\n",
        "    dim_output: int\n",
        "        Number of features in the output representation.\n",
        "        Equivalently, number of units in this layer.\n",
        "    do_activation: bool\n",
        "        Whether or not to apply ReLU activation.\n",
        "    postfix: string\n",
        "        Postfix on name scopes in this layer.\n",
        "        Used to simplify visualizations.\n",
        "    name: string\n",
        "        Name of layer.\n",
        "        \n",
        "    Returns\n",
        "    -------\n",
        "    A tensor representing the activations of this layer.\n",
        "    '''\n",
        "    def __init__(self, dim_input, dim_output, do_activation=True, postfix='', name=None):\n",
        "        super().__init__(name=name)\n",
        "        with tf.name_scope('dense' + postfix):\n",
        "            self.do_activation = do_activation\n",
        "            self.weights = tf.Variable(tf.initializers.he_uniform()(shape=(dim_input,dim_output), dtype=tf.float32), \\\n",
        "                                   name='weights'+postfix)\n",
        "            self.bias = tf.Variable(tf.zeros_initializer()(shape=(dim_output), dtype=tf.float32), name='bias'+postfix)\n",
        "      \n",
        "        \n",
        "    def __call__(self, x):\n",
        "        if self.do_activation:\n",
        "            return tf.nn.relu(tf.math.add(tf.matmul(x, self.weights), self.bias))\n",
        "        else:\n",
        "            return tf.math.add(tf.matmul(x, self.weights), self.bias)"
      ],
      "execution_count": 8,
      "outputs": []
    },
    {
      "cell_type": "code",
      "metadata": {
        "id": "7wzKXc2k1KRe"
      },
      "source": [
        "class Conv(tf.Module):\n",
        "    '''\n",
        "    Creates a convolutional layer module.\n",
        "    \n",
        "    Parameters\n",
        "    ----------\n",
        "    input_channels: int\n",
        "        Number of channels in the input representation.\n",
        "    n_filters: int\n",
        "        Number of channels in the output representation.\n",
        "        Equivalently, number of filters in this layer.\n",
        "    filter_size: int\n",
        "        Width and height of each kernel in the layer's filters.\n",
        "    stride: int\n",
        "        Stride to use in the x and y directions for the\n",
        "        convolution operation.\n",
        "    do_activation: bool\n",
        "        Whether or not to apply ReLU activation.\n",
        "    pool_size: int\n",
        "        If > 1, does max pooling of this size to the\n",
        "        width and height axes of the activation.\n",
        "    postfix: string\n",
        "        Postfix on name and variable scopes in this layer.\n",
        "        Used to simplify visualizations.\n",
        "    name: string\n",
        "        Name of layer\n",
        "        \n",
        "    Returns\n",
        "    -------\n",
        "    A tensor representing the activations of this layer.\n",
        "    '''\n",
        "    def __init__(self, input_channels, n_filters, \n",
        "                 filter_size=3, stride=1,\n",
        "                 do_activation=True, pool_size=1,\n",
        "                 postfix='', name=None):\n",
        "        super().__init__(name=name)\n",
        "        with tf.name_scope('conv' + postfix):\n",
        "            self.do_activation = do_activation\n",
        "            self.pool_size = pool_size\n",
        "            self.stride = stride\n",
        "            self.filters = tf.Variable(tf.initializers.he_uniform()\\\n",
        "                                       (shape= (filter_size,filter_size,input_channels,n_filters), \\\n",
        "                                        dtype=tf.float32), name='filters'+postfix)\n",
        "            self.bias = tf.Variable(tf.zeros_initializer()\\\n",
        "                                       (shape= (n_filters), \\\n",
        "                                        dtype=tf.float32), name='bias'+postfix)\n",
        "            \n",
        "            \n",
        "    def image(self, x):\n",
        "      conv = tf.nn.conv2d(x, self.filters, strides = [1, self.stride, self.stride, 1], padding='SAME')\n",
        "      relu = tf.nn.bias_add(conv, self.bias)\n",
        "      if self.do_activation:\n",
        "          relu = tf.nn.relu(relu)\n",
        "      return relu\n",
        "            \n",
        "    def __call__(self, x):\n",
        "        toReturn = self.image(x)\n",
        "        if self.pool_size > 1:\n",
        "            toReturn = tf.nn.max_pool(toReturn, ksize = [1, self.pool_size, self.pool_size, 1], strides=[1, self.pool_size, self.pool_size, 1], padding='VALID')\n",
        "        return toReturn"
      ],
      "execution_count": 9,
      "outputs": []
    },
    {
      "cell_type": "markdown",
      "metadata": {
        "id": "Na3Tt4YCrhIb"
      },
      "source": [
        "### 3.2: The rest of the model\n",
        "Write a `tf.Module` class called `Surrogate` that uses your classes from last week to be your surrogate model."
      ]
    },
    {
      "cell_type": "markdown",
      "metadata": {
        "id": "1i9QNP9_rhIb"
      },
      "source": [
        "#### 3.2.1: Adversarial noise\n",
        "This is the only part of the model that really differs from last week, and it's a bit tricky.\n",
        "\n",
        "Add a variable to the graph that represents the adversarial noise we'll add to one example.\n",
        "It should be the shape of a single input image and initialized to zeros.\n",
        "In addition, pass (to the `Variable()` constructor) the keyword argument `constraint=lambda x: tf.clip_by_value(x, -0.3, 0.3)`.\n",
        "Every time the variable is updated, it will become the result of the lambda function, which in this case constrains its pixel values to be in the range -0.3 to 0.3.\n",
        "(Equivalently, at every step we re-project the adversarial noise back into a hypercube at the origin with side length 0.6).\n",
        "I found that 0.3 works well, but feel free to change this value -- smaller values will produce less obvious noise, while larger values will produce more successful attacks. \n",
        "\n",
        "Add a boolean `tf.Variable` (default False) named \"use_noise\" to the graph.\n",
        "This will act as a \"switch\" controlling whether a given run uses adversarial noise. Additionally, add the argument `trainable=False` to the constructor, as it makes no sense to update this variable during training.\n",
        "\n",
        "Add a `tf.cond()` operation that, depending on `use_noise`, switches between the input image and the image plus the adversarial noise.\n",
        "This allows us to train the surrogate model without adversarial noise, then enable it when crafting the adversarial example."
      ]
    },
    {
      "cell_type": "code",
      "metadata": {
        "id": "wGCvjHfWrhIb"
      },
      "source": [
        "class Surrogate(tf.Module):\n",
        "    def __init__(self, name=None):\n",
        "        self.adv_noise = tf.Variable(tf.zeros_initializer()(shape= (64,64,1), \\\n",
        "              dtype=tf.float32),constraint=lambda x: tf.clip_by_value(x, -0.3, 0.3))\n",
        "        self.use_noise = tf.Variable(False, trainable=False)\n",
        "        self.conv_layer1 = Conv(1, 16, filter_size=5, stride=2, do_activation=True, pool_size=1, postfix='Conv Layer 1')\n",
        "        self.conv_layer2 = Conv(16, 16, filter_size=3, stride=1, do_activation=True, pool_size=2, postfix='Conv Layer 2')\n",
        "        self.conv_layer3 = Conv(16, 32, filter_size=3, stride=1, do_activation=True, pool_size=1, postfix='Conv Layer 3')\n",
        "        self.conv_layer4 = Conv(32, 32, filter_size=3, stride=1, do_activation=True, pool_size=2, postfix='Conv Layer 4')\n",
        "        self.conv_layer5 = Conv(32, 64, filter_size=3, stride=1, do_activation=True, pool_size=1, postfix='Conv Layer 5')\n",
        "        self.conv_layer6 = Conv(64, 64, filter_size=3, stride=1, do_activation=True, pool_size=2, postfix='Conv Layer 6')\n",
        "        #self.dense_layer6 = Dense(16*64, 128, do_activation=True, postfix='Dense Layer 6')\n",
        "        #self.dense_layer7 = Dense(128, 64, do_activation=True, postfix='Dense Layer 7') \n",
        "        self.dense_layer7 = Dense(16*64, 128, do_activation=True, postfix='Dense Layer 7') \n",
        "        self.dense_layer8 = Dense(128, 10, do_activation=False, postfix='Dense Layer 8')\n",
        "        # self.conv_layer1 = Conv(1, 16, filter_size=5, stride=1, do_activation=True, pool_size=1, postfix='Conv Layer 1')\n",
        "        # self.conv_layer2 = Conv(16, 16, filter_size=5, stride=1, do_activation=True, pool_size=2, postfix='Conv Layer 2')\n",
        "        # self.conv_layer3 = Conv(16, 32, filter_size=3, stride=1, do_activation=True, pool_size=2, postfix='Conv Layer 3')\n",
        "        # self.conv_layer4 = Conv(32, 64, filter_size=3, stride=1, do_activation=True, pool_size=2, postfix='Conv Layer 4')\n",
        "        # self.conv_layer5 = Conv(64, 64, filter_size=3, stride=2, do_activation=True,pool_size=1, postfix='Conv Layer 5')\n",
        "        # self.dense_layer6 = Dense(16*64, 128, do_activation=True, postfix='Dense Layer 6')\n",
        "        # self.dense_layer7 = Dense(128, 64, do_activation=True, postfix='Dense Layer 7') \n",
        "        # self.dense_layer8 = Dense(64, 10, do_activation=False, postfix='Dense Layer 8')\n",
        "        \n",
        "    def logits(self, x):\n",
        "        conv_all = self.conv_layer6(self.conv_layer5(self.conv_layer4(self.conv_layer3(self.conv_layer2(self.conv_layer1(x))))))\n",
        "        conv_all = tf.reshape(conv_all, shape = [-1, 16*64])\n",
        "        dense_all = self.dense_layer8(self.dense_layer7(conv_all))\n",
        "        # conv_all = self.conv_layer5(self.conv_layer4(self.conv_layer3(self.conv_layer2(self.conv_layer1(x)))))\n",
        "        # conv_all = tf.reshape (conv_all, shape = [-1, 16*64])\n",
        "        # dense_all = self.dense_layer8(self.dense_layer7(self.dense_layer6(conv_all)))\n",
        "        return tf.squeeze(dense_all)\n",
        "\n",
        "    def add_true(self):\n",
        "        return tf.add(x, self.adv_noise)\n",
        "    \n",
        "    def add_false(self):\n",
        "        return x\n",
        "    \n",
        "    @tf.function\n",
        "    def __call__(self, x):\n",
        "        add = tf.cond(self.use_noise, self.add_true, self.add_false)\n",
        "        logits = self.logits(add)\n",
        "        return tf.nn.sigmoid(logits)"
      ],
      "execution_count": 16,
      "outputs": []
    },
    {
      "cell_type": "markdown",
      "metadata": {
        "id": "T3kpCMmkrhIc"
      },
      "source": [
        "\n",
        "\n",
        "### 3.3: Compute cross-entropy loss\n",
        "Write a `_loss` function to compute the cross-entropy loss."
      ]
    },
    {
      "cell_type": "code",
      "metadata": {
        "id": "mh-qqIJmrhIc"
      },
      "source": [
        "def _loss(target, actual):\n",
        "    mse_per_example = tf.nn.softmax_cross_entropy_with_logits(target, actual)\n",
        "    mse_batch = tf.reduce_mean(mse_per_example)  \n",
        "    return mse_batch"
      ],
      "execution_count": 23,
      "outputs": []
    },
    {
      "cell_type": "markdown",
      "metadata": {
        "id": "xkMJv4hXrhIc"
      },
      "source": [
        "### 3.4: Surrogate and adversarial loss and gradients\n",
        "Add an optimizer and train method we'll use to train the surrogate model to act like the target model.\n",
        "It should just minimize the cross-entropy loss between the model's predictions and the targets. When `use_noise` is false, we will not have any gradients to update the adversarial noise tensor with because it will not be referenced in our computation. This will cause TensorFlow to throw (very annoying) warning messages about nonexistent gradients. To suppress this, we can use this neat trick (credit [here](https://stackoverflow.com/questions/60022462/how-to-suppress-specific-warning-in-tensorflow-python)) to preprocess our gradients,\n",
        "```\n",
        "gradients = g.gradient(loss, model.trainable_variables)\n",
        "surrogate_optimizer.apply_gradients( \n",
        "                            (grad, var) for (grad, var) in zip(gradients, model.trainable_variables)\n",
        "                             if grad is not None)\n",
        "```\n",
        "\n",
        "When training the surrogate model, we want to change the model parameters to minimize the loss.\n",
        "When creating the adversarial example, we want to do something very different: _change the adversarial noise tensor alone to maximize the loss_.\n",
        "\n",
        "So, add an `adversarial=False` argument to your train method so we can toggle whether or not to train the surrogate model, or the adversarial noise.\n",
        "\n",
        "Define a new adversarial loss which is the negative of the original loss, and a new optimizer to minimize it.\n",
        "When you call `minimize()`, pass in the keyword argument `var_list=[model.noise]`, where \"noise\" is the name of your adversarial noise tensor.\n",
        "This will prevent the optimizer from changing the weights of the model when we optimize the adversarial noise.\n",
        "\n",
        "Add a summary scalar to plot the adversarial loss decreasing. Then, add a summary histogram and a summary image for the adversarial noise tensor, so we can plot it as we're learning the adversarial example.\n",
        "Finally, add a summary image for the output of `cond`, which will be our adversarial example later."
      ]
    },
    {
      "cell_type": "code",
      "metadata": {
        "id": "LRO4HsDvrhId"
      },
      "source": [
        "surrogate_optimizer = tf.optimizers.SGD(1e-3, momentum=0.9)\n",
        "adversarial_optimizer = tf.optimizers.SGD(1e-3, momentum=0.9)\n",
        "\n",
        "# finds the accuracy\n",
        "def accurate(target, actual):\n",
        "    ti = tf.argmax(target, axis=1)\n",
        "    ai = tf.argmax(actual, axis=1)\n",
        "    toReturn = tf.reduce_mean(tf.cast(tf.math.equal(ti, ai) ,tf.float32))\n",
        "    return toReturn\n",
        "\n",
        "def layer_operations(curr_idx, x, layers):\n",
        "    if curr_idx > 0:\n",
        "        x = layer_operations(curr_idx-1, x, layers)\n",
        "    return layers[curr_idx](x)\n",
        "\n",
        "def train(model, x, y, i, adversarial=False):\n",
        "    optimizer = surrogate_optimizer\n",
        "    var_list = model.trainable_variables\n",
        "    writer = surrogate_writer\n",
        "\n",
        "    # if adversarial:\n",
        "    #     optimizer = adversarial_optimizer\n",
        "    #     var_list = [model.adv_noise]\n",
        "    #     writer = adversarial_writer\n",
        "        # use negative of loss function\n",
        "\n",
        "    with tf.GradientTape() as g:\n",
        "        loss = _loss(y, model.logits(x))\n",
        "    accuracy = accurate(y, model(x))\n",
        "    if model.use_noise == False:\n",
        "        gradients = g.gradient(loss, model.trainable_variables)\n",
        "        optimizer.apply_gradients((grad, var) for (grad, var) in \\\n",
        "                                zip(gradients, model.trainable_variables) \\\n",
        "                                if grad is not None) \n",
        "    else:\n",
        "        optimizer.minimize(loss, var_list)\n",
        "    with writer.as_default():\n",
        "        tf.summary.scalar('loss', loss, step=i)\n",
        "        tf.summary.scalar('accuracy', accuracy, step=i)\n",
        "        tf.summary.histogram('adversarial_noise', model.adv_noise, step=i)\n",
        "    return accuracy"
      ],
      "execution_count": 25,
      "outputs": []
    },
    {
      "cell_type": "markdown",
      "metadata": {
        "id": "I3yv3klHrhId"
      },
      "source": [
        "## Section 4: Train the surrogate model\n",
        "Train your surrogate model until it hits high accuracy.\n",
        "At the very least it should have 90% accuracy -- I hit 98-100% on the training set.\n",
        "Overfitting isn't really a concern here since we are actually trying to memorize the target model.\n",
        "\n",
        "When the training loop is done, save the model under `./checkpoints/model_surrogate`.\n",
        "We won't be modifying this particular checkpoint any more, it'll contain the fully-trained surrogate model with zero adversarial noise."
      ]
    },
    {
      "cell_type": "code",
      "metadata": {
        "colab": {
          "base_uri": "https://localhost:8080/",
          "height": 460
        },
        "id": "EQzzDJq9rhId",
        "outputId": "cda9c9d4-29aa-44c2-cc85-1c0d4484d02e"
      },
      "source": [
        "model = Surrogate()\n",
        "train_batch = 0\n",
        "\n",
        "# Training loop\n",
        "for i in range(n_epochs):\n",
        "    test_accuracy = []\n",
        "    for x, y in dataset:  \n",
        "        if train_batch == 0:\n",
        "            tf.summary.trace_on(graph=True, profiler=True)\n",
        "            model(x)\n",
        "            with surrogate_writer.as_default():\n",
        "                tf.summary.trace_export(name='first training batch', step=0, profiler_outdir='./logs/surrogate')\n",
        "        test_accuracy.append(train(model, x, y, train_batch))\n",
        "        train_batch += 1\n",
        "\n",
        "    print('Epoch:\\t', i)\n",
        "    print('Average Training Set Accuracy:\\t', np.mean(test_accuracy))\n",
        "    \n",
        "# Save model\n",
        "checkpoint = tf.train.Checkpoint(model=model)\n",
        "checkpoint.write('./checkpoints/model_surrogate')"
      ],
      "execution_count": 26,
      "outputs": [
        {
          "output_type": "stream",
          "name": "stdout",
          "text": [
            "Epoch:\t 0\n",
            "Average Training Set Accuracy:\t 0.10035992\n",
            "Epoch:\t 1\n",
            "Average Training Set Accuracy:\t 0.10035992\n"
          ]
        },
        {
          "output_type": "error",
          "ename": "KeyboardInterrupt",
          "evalue": "ignored",
          "traceback": [
            "\u001b[0;31m---------------------------------------------------------------------------\u001b[0m",
            "\u001b[0;31mKeyboardInterrupt\u001b[0m                         Traceback (most recent call last)",
            "\u001b[0;32m/usr/local/lib/python3.7/dist-packages/IPython/core/interactiveshell.py\u001b[0m in \u001b[0;36mrun_code\u001b[0;34m(self, code_obj, result)\u001b[0m\n\u001b[1;32m   2881\u001b[0m                 \u001b[0;31m#rprint('Running code', repr(code_obj)) # dbg\u001b[0m\u001b[0;34m\u001b[0m\u001b[0;34m\u001b[0m\u001b[0;34m\u001b[0m\u001b[0m\n\u001b[0;32m-> 2882\u001b[0;31m                 \u001b[0mexec\u001b[0m\u001b[0;34m(\u001b[0m\u001b[0mcode_obj\u001b[0m\u001b[0;34m,\u001b[0m \u001b[0mself\u001b[0m\u001b[0;34m.\u001b[0m\u001b[0muser_global_ns\u001b[0m\u001b[0;34m,\u001b[0m \u001b[0mself\u001b[0m\u001b[0;34m.\u001b[0m\u001b[0muser_ns\u001b[0m\u001b[0;34m)\u001b[0m\u001b[0;34m\u001b[0m\u001b[0;34m\u001b[0m\u001b[0m\n\u001b[0m\u001b[1;32m   2883\u001b[0m             \u001b[0;32mfinally\u001b[0m\u001b[0;34m:\u001b[0m\u001b[0;34m\u001b[0m\u001b[0;34m\u001b[0m\u001b[0m\n",
            "\u001b[0;32m<ipython-input-26-26fae722fdb9>\u001b[0m in \u001b[0;36m<module>\u001b[0;34m()\u001b[0m\n\u001b[1;32m     12\u001b[0m                 \u001b[0mtf\u001b[0m\u001b[0;34m.\u001b[0m\u001b[0msummary\u001b[0m\u001b[0;34m.\u001b[0m\u001b[0mtrace_export\u001b[0m\u001b[0;34m(\u001b[0m\u001b[0mname\u001b[0m\u001b[0;34m=\u001b[0m\u001b[0;34m'first training batch'\u001b[0m\u001b[0;34m,\u001b[0m \u001b[0mstep\u001b[0m\u001b[0;34m=\u001b[0m\u001b[0;36m0\u001b[0m\u001b[0;34m,\u001b[0m \u001b[0mprofiler_outdir\u001b[0m\u001b[0;34m=\u001b[0m\u001b[0;34m'./logs/surrogate'\u001b[0m\u001b[0;34m)\u001b[0m\u001b[0;34m\u001b[0m\u001b[0;34m\u001b[0m\u001b[0m\n\u001b[0;32m---> 13\u001b[0;31m         \u001b[0mtest_accuracy\u001b[0m\u001b[0;34m.\u001b[0m\u001b[0mappend\u001b[0m\u001b[0;34m(\u001b[0m\u001b[0mtrain\u001b[0m\u001b[0;34m(\u001b[0m\u001b[0mmodel\u001b[0m\u001b[0;34m,\u001b[0m \u001b[0mx\u001b[0m\u001b[0;34m,\u001b[0m \u001b[0my\u001b[0m\u001b[0;34m,\u001b[0m \u001b[0mtrain_batch\u001b[0m\u001b[0;34m)\u001b[0m\u001b[0;34m)\u001b[0m\u001b[0;34m\u001b[0m\u001b[0;34m\u001b[0m\u001b[0m\n\u001b[0m\u001b[1;32m     14\u001b[0m         \u001b[0mtrain_batch\u001b[0m \u001b[0;34m+=\u001b[0m \u001b[0;36m1\u001b[0m\u001b[0;34m\u001b[0m\u001b[0;34m\u001b[0m\u001b[0m\n",
            "\u001b[0;32m<ipython-input-25-3df07f4b3c48>\u001b[0m in \u001b[0;36mtrain\u001b[0;34m(model, x, y, i, adversarial)\u001b[0m\n\u001b[1;32m     35\u001b[0m     \u001b[0;32mwith\u001b[0m \u001b[0mwriter\u001b[0m\u001b[0;34m.\u001b[0m\u001b[0mas_default\u001b[0m\u001b[0;34m(\u001b[0m\u001b[0;34m)\u001b[0m\u001b[0;34m:\u001b[0m\u001b[0;34m\u001b[0m\u001b[0;34m\u001b[0m\u001b[0m\n\u001b[0;32m---> 36\u001b[0;31m         \u001b[0mtf\u001b[0m\u001b[0;34m.\u001b[0m\u001b[0msummary\u001b[0m\u001b[0;34m.\u001b[0m\u001b[0mscalar\u001b[0m\u001b[0;34m(\u001b[0m\u001b[0;34m'loss'\u001b[0m\u001b[0;34m,\u001b[0m \u001b[0mloss\u001b[0m\u001b[0;34m(\u001b[0m\u001b[0;34m)\u001b[0m\u001b[0;34m,\u001b[0m \u001b[0mstep\u001b[0m\u001b[0;34m=\u001b[0m\u001b[0mi\u001b[0m\u001b[0;34m)\u001b[0m\u001b[0;34m\u001b[0m\u001b[0;34m\u001b[0m\u001b[0m\n\u001b[0m\u001b[1;32m     37\u001b[0m         \u001b[0mtf\u001b[0m\u001b[0;34m.\u001b[0m\u001b[0msummary\u001b[0m\u001b[0;34m.\u001b[0m\u001b[0mscalar\u001b[0m\u001b[0;34m(\u001b[0m\u001b[0;34m'accuracy'\u001b[0m\u001b[0;34m,\u001b[0m \u001b[0maccuracy\u001b[0m\u001b[0;34m,\u001b[0m \u001b[0mstep\u001b[0m\u001b[0;34m=\u001b[0m\u001b[0mi\u001b[0m\u001b[0;34m)\u001b[0m\u001b[0;34m\u001b[0m\u001b[0;34m\u001b[0m\u001b[0m\n",
            "\u001b[0;32m/usr/local/lib/python3.7/dist-packages/tensorboard/plugins/scalar/summary_v2.py\u001b[0m in \u001b[0;36mscalar\u001b[0;34m(name, data, step, description)\u001b[0m\n\u001b[1;32m     83\u001b[0m     summary_scope = (\n\u001b[0;32m---> 84\u001b[0;31m         \u001b[0mgetattr\u001b[0m\u001b[0;34m(\u001b[0m\u001b[0mtf\u001b[0m\u001b[0;34m.\u001b[0m\u001b[0msummary\u001b[0m\u001b[0;34m.\u001b[0m\u001b[0mexperimental\u001b[0m\u001b[0;34m,\u001b[0m \u001b[0;34m\"summary_scope\"\u001b[0m\u001b[0;34m,\u001b[0m \u001b[0;32mNone\u001b[0m\u001b[0;34m)\u001b[0m\u001b[0;34m\u001b[0m\u001b[0;34m\u001b[0m\u001b[0m\n\u001b[0m\u001b[1;32m     85\u001b[0m         \u001b[0;32mor\u001b[0m \u001b[0mtf\u001b[0m\u001b[0;34m.\u001b[0m\u001b[0msummary\u001b[0m\u001b[0;34m.\u001b[0m\u001b[0msummary_scope\u001b[0m\u001b[0;34m\u001b[0m\u001b[0;34m\u001b[0m\u001b[0m\n",
            "\u001b[0;31mKeyboardInterrupt\u001b[0m: ",
            "\nDuring handling of the above exception, another exception occurred:\n",
            "\u001b[0;31mKeyboardInterrupt\u001b[0m                         Traceback (most recent call last)",
            "\u001b[0;31mKeyboardInterrupt\u001b[0m: "
          ]
        }
      ]
    },
    {
      "cell_type": "markdown",
      "metadata": {
        "id": "z7P93YpmrhIf"
      },
      "source": [
        "## Section 5: Learn the adversarial example\n",
        "Finally, it's time to create an adversarial example using our surrogate model.\n",
        "Pick an image from the test set (or use the one I picked below), then run a training loop to minimize the adversarial loss (equivalently, maximize the model loss on that example).\n",
        "To do this, use `surrogate_model.use_noise.assign(True)`.\n",
        "This turns on the `use_noise` switch we set before, and overwrites the input image with the image we're going to turn into an adversarial example.\n",
        "\n",
        "When it's done, save it to a new checkpoint, `./checkpoints/model_adversarial`.\n",
        "This new checkpoint should have exactly the same model parameters as before (remember that we're only optimizing the noise), but a nonzero noise tensor.\n",
        "\n",
        "At the end, also save the adversarial example (which will be contained in the result of your `cond`) and the noise tensor to a numpy array so we can use them later.\n",
        "\n",
        "Periodically write the image and histogram summaries so you can look at them in TensorBoard later. \n",
        "\n",
        "You should be able to do this just by setting `adversarial=True` in your train method."
      ]
    },
    {
      "cell_type": "code",
      "metadata": {
        "id": "BWysmf5xrhIh"
      },
      "source": [
        "# Pick and plot the image we'll turn into an adversarial example\n",
        "idx = 1\n",
        "img = x_test[idx]\n",
        "lbl = y_test[idx]\n",
        "\n",
        "plt.imshow(img[:, :, 0], cmap='gray')\n",
        "plt.title('True label: {}'.format(np.argmax(lbl)))"
      ],
      "execution_count": null,
      "outputs": []
    },
    {
      "cell_type": "code",
      "metadata": {
        "id": "FAjODO2prhIi"
      },
      "source": [
        "# Your code here"
      ],
      "execution_count": null,
      "outputs": []
    },
    {
      "cell_type": "markdown",
      "metadata": {
        "id": "r7Bs6g49rhIi"
      },
      "source": [
        "## Section 6: Visualize the adversarial example\n",
        "Plot the original example, the adversarial example, and the adversarial noise below."
      ]
    },
    {
      "cell_type": "code",
      "metadata": {
        "id": "RDpXy15krhIj"
      },
      "source": [
        "# Your code here"
      ],
      "execution_count": null,
      "outputs": []
    },
    {
      "cell_type": "markdown",
      "metadata": {
        "id": "2haNG2j_rhIj"
      },
      "source": [
        "## Section 7: Demonstrate that the surrogate model fails on the adversarial example\n",
        "Compute the surrogate model's prediction and probability for the original example and the adversarial example, and compare them. Remember to set the `use_noise` switch to false when computing predictions."
      ]
    },
    {
      "cell_type": "code",
      "metadata": {
        "id": "DwrFeVt_rhIj"
      },
      "source": [
        "# Your code here"
      ],
      "execution_count": null,
      "outputs": []
    },
    {
      "cell_type": "markdown",
      "metadata": {
        "id": "PqrVFcXJrhIk"
      },
      "source": [
        "## 8: Demonstrate that the target model fails on the adversarial example\n",
        "This is the real test -- transferring the learned adversarial example from the surrogate model to the target model.\n",
        "Compute the target model's prediction and probability for the original example and the adversarial example, and compare them."
      ]
    },
    {
      "cell_type": "code",
      "metadata": {
        "id": "UF3DseRurhIk"
      },
      "source": [
        "# Your code here"
      ],
      "execution_count": null,
      "outputs": []
    },
    {
      "cell_type": "markdown",
      "metadata": {
        "id": "9_P_rlLxrhIk"
      },
      "source": [
        "# Congratulations, you've carried out a black-box adversarial attack!\n",
        "These kinds of adversarial attacks are a serious concern in the real world, since they can be [made to work when printed on paper](https://blog.openai.com/robust-adversarial-inputs/) and [we're still bad at defending against them](https://blog.openai.com/adversarial-example-research/).\n",
        "\n",
        "Some interesting things to try:\n",
        " - Did the surrogate model and the target model misclassify the adversarial example in the same way? (Mine did)\n",
        " - How subtle can you make the noise while still tricking the target network?\n",
        " - Look at how the adversarial example evolves through training in TensorBoard"
      ]
    },
    {
      "cell_type": "code",
      "metadata": {
        "id": "jlDZabLFuebU"
      },
      "source": [
        ""
      ],
      "execution_count": null,
      "outputs": []
    }
  ]
}